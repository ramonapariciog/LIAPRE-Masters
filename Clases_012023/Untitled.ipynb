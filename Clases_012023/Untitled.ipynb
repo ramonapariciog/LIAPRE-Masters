{
 "cells": [
  {
   "cell_type": "code",
   "execution_count": 97,
   "metadata": {},
   "outputs": [],
   "source": [
    "class aguila:\n",
    "    fuerza = 50\n",
    "    rapidez = 70\n",
    "    astucia = 90\n",
    "    def __init__(self, nombre, ):\n",
    "        self.nombre = nombre\n",
    "        self.salud = 100\n",
    "        \n",
    "    def espia(self):\n",
    "        assert self.salud > 0, \"Caballero muerto\"\n",
    "        print(\"Averiguando informacion\")\n",
    "    \n",
    "    def atacar(self, enemigo):\n",
    "        assert self.salud > 0, \"Caballero muerto\"\n",
    "        enemigo.salud = enemigo.salud - int(10 * (self.fuerza / 100))\n",
    "        print(\"salud de %s %d\"%(enemigo.nombre, enemigo.salud))\n",
    "        \n",
    "    def rezar(self, dios):\n",
    "        assert self.salud > 0, \"Caballero muerto\"\n",
    "        if self.salud < 90:\n",
    "            self.salud += 10\n",
    "        \n",
    "            \n",
    "class tlatoani:\n",
    "    fuerza = 50\n",
    "    rapidez = 50\n",
    "    astucia = 100\n",
    "    def __init__(self, nombre, ):\n",
    "        self.nombre = nombre\n",
    "        self.salud = 100\n",
    "        \n",
    "    def ordenar(self, orden):\n",
    "        assert self.salud > 0, \"tlatoani muerto\"\n",
    "        print(orden)\n",
    "        \n",
    "    def someter(self, enemigo):\n",
    "        assert self.salud > 0, \"tlatoani muerto\"\n",
    "        if enemigo.salud < 50:\n",
    "            enemigo.salud -= 20\n",
    "    \n",
    "    def ejecutar(self, enemigo):\n",
    "        assert self.salud > 0, \"tlatoani muerto\"\n",
    "        if enemigo.salud < 30:\n",
    "            enemigo.salud = 0\n",
    "            \n",
    "# herencia y polimorfismo\n",
    "            \n",
    "class jaguar(aguila):\n",
    "    fuerza=80\n",
    "    rapidez=80\n",
    "    astucia=50\n",
    "    def __init__(self, nombre):\n",
    "        self.nombre = nombre\n",
    "        self.salud = 100\n",
    "        \n",
    "    def correr(self, distancia):\n",
    "        assert self.salud > 0, \"jaguar muerto\"\n",
    "        print(\"Corriendo ...\")\n",
    "        for i in range(distancia//1000):\n",
    "            self.salud -= 1\n",
    "        print(\"Salud %d\"%self.salud)"
   ]
  },
  {
   "cell_type": "code",
   "execution_count": 79,
   "metadata": {},
   "outputs": [],
   "source": [
    "itzel = aguila(\"itzel\")\n",
    "tlatoani = tlatoani(\"Cuauhtemoc\")"
   ]
  },
  {
   "cell_type": "code",
   "execution_count": 75,
   "metadata": {},
   "outputs": [],
   "source": [
    "quetzal = aguila(\"Quetzal\")"
   ]
  },
  {
   "cell_type": "code",
   "execution_count": 68,
   "metadata": {},
   "outputs": [
    {
     "name": "stdout",
     "output_type": "stream",
     "text": [
      "salud de Quetzal 95\n"
     ]
    }
   ],
   "source": [
    "itzel.atacar(quetzal)"
   ]
  },
  {
   "cell_type": "code",
   "execution_count": 55,
   "metadata": {},
   "outputs": [],
   "source": [
    "quetzal.rezar(\"tescatlipoca\")"
   ]
  },
  {
   "cell_type": "code",
   "execution_count": 82,
   "metadata": {
    "scrolled": true
   },
   "outputs": [
    {
     "name": "stdout",
     "output_type": "stream",
     "text": [
      "Corriendo ...\n",
      "Salud 97\n",
      "salud de itzel 92\n"
     ]
    }
   ],
   "source": [
    "tenoch = jaguar(\"Tenoch\")\n",
    "tenoch.rezar(\"Quetzalcoatl\")\n",
    "tenoch.correr(3000)\n",
    "tenoch.atacar(itzel)"
   ]
  },
  {
   "cell_type": "code",
   "execution_count": 96,
   "metadata": {},
   "outputs": [
    {
     "ename": "TypeError",
     "evalue": "metaclass conflict: the metaclass of a derived class must be a (non-strict) subclass of the metaclasses of all its bases",
     "output_type": "error",
     "traceback": [
      "\u001b[0;31m---------------------------------------------------------------------------\u001b[0m",
      "\u001b[0;31mTypeError\u001b[0m                                 Traceback (most recent call last)",
      "\u001b[0;32m<ipython-input-96-c8096b297697>\u001b[0m in \u001b[0;36m<module>\u001b[0;34m\u001b[0m\n\u001b[0;32m----> 1\u001b[0;31m \u001b[0;32mclass\u001b[0m \u001b[0msuperTlatoani\u001b[0m\u001b[0;34m(\u001b[0m\u001b[0maguila\u001b[0m\u001b[0;34m,\u001b[0m \u001b[0mtlatoani\u001b[0m\u001b[0;34m)\u001b[0m\u001b[0;34m:\u001b[0m\u001b[0;34m\u001b[0m\u001b[0;34m\u001b[0m\u001b[0m\n\u001b[0m\u001b[1;32m      2\u001b[0m     \u001b[0mfuerza\u001b[0m \u001b[0;34m=\u001b[0m \u001b[0;36m80\u001b[0m\u001b[0;34m\u001b[0m\u001b[0;34m\u001b[0m\u001b[0m\n\u001b[1;32m      3\u001b[0m     \u001b[0mrapidez\u001b[0m \u001b[0;34m=\u001b[0m \u001b[0;36m90\u001b[0m\u001b[0;34m\u001b[0m\u001b[0;34m\u001b[0m\u001b[0m\n\u001b[1;32m      4\u001b[0m     \u001b[0mastucia\u001b[0m \u001b[0;34m=\u001b[0m \u001b[0;36m100\u001b[0m\u001b[0;34m\u001b[0m\u001b[0;34m\u001b[0m\u001b[0m\n\u001b[1;32m      5\u001b[0m     \u001b[0;32mdef\u001b[0m \u001b[0m__init__\u001b[0m\u001b[0;34m(\u001b[0m\u001b[0mself\u001b[0m\u001b[0;34m,\u001b[0m \u001b[0mnombre\u001b[0m\u001b[0;34m)\u001b[0m\u001b[0;34m:\u001b[0m\u001b[0;34m\u001b[0m\u001b[0;34m\u001b[0m\u001b[0m\n",
      "\u001b[0;31mTypeError\u001b[0m: metaclass conflict: the metaclass of a derived class must be a (non-strict) subclass of the metaclasses of all its bases"
     ]
    }
   ],
   "source": [
    "class superTlatoani(aguila, tlatoani):\n",
    "    fuerza = 80\n",
    "    rapidez = 90\n",
    "    astucia = 100\n",
    "    def __init__(self, nombre):\n",
    "        self.salud = 200\n",
    "        print(\"Maximo gobernante %s\"%nombre)"
   ]
  },
  {
   "cell_type": "markdown",
   "metadata": {},
   "source": [
    "# Tipos de datos"
   ]
  },
  {
   "cell_type": "code",
   "execution_count": 89,
   "metadata": {},
   "outputs": [],
   "source": [
    "class aguila:\n",
    "    fuerza = 50\n",
    "    rapidez = 70\n",
    "    astucia = 90\n",
    "    def __init__(self, nombre, ):\n",
    "        self.nombre = nombre\n",
    "        self.salud = 100\n",
    "        \n",
    "    def espia(self):\n",
    "        assert self.salud > 0, \"Caballero muerto\"\n",
    "        print(\"Averiguando informacion\")\n",
    "    \n",
    "    def atacar(self, enemigo):\n",
    "        assert self.salud > 0, \"Caballero muerto\"\n",
    "        enemigo.salud = enemigo.salud - int(10 * (self.fuerza / 100))\n",
    "        print(\"salud de %s %d\"%(enemigo.nombre, enemigo.salud))\n",
    "        \n",
    "    def rezar(self, dios):\n",
    "        assert self.salud > 0, \"Caballero muerto\"\n",
    "        self.__sanar__()\n",
    "    \n",
    "    def __sanar__(self):\n",
    "        if self.salud < 90:\n",
    "            self.salud += 10\n",
    "        else:\n",
    "            print(\"Salud al maximo\")\n",
    "        \n",
    "            \n",
    "class jaguar(aguila):\n",
    "    fuerza=80\n",
    "    rapidez=80\n",
    "    astucia=50\n",
    "    def __init__(self, nombre):\n",
    "        self.nombre = nombre\n",
    "        self.salud = 100\n",
    "        \n",
    "    def correr(self, distancia):\n",
    "        assert self.salud > 0, \"jaguar muerto\"\n",
    "        print(\"Corriendo ...\")\n",
    "        for i in range(distancia//1000):\n",
    "            self.salud -= 1\n",
    "        print(\"Salud %d\"%self.salud)"
   ]
  },
  {
   "cell_type": "code",
   "execution_count": 90,
   "metadata": {},
   "outputs": [],
   "source": [
    "chuchu = aguila(\"Chuchu\")"
   ]
  },
  {
   "cell_type": "code",
   "execution_count": 91,
   "metadata": {},
   "outputs": [
    {
     "name": "stdout",
     "output_type": "stream",
     "text": [
      "Salud al maximo\n"
     ]
    }
   ],
   "source": [
    "chuchu.rezar(\"teotl\")"
   ]
  },
  {
   "cell_type": "code",
   "execution_count": 95,
   "metadata": {},
   "outputs": [
    {
     "name": "stdout",
     "output_type": "stream",
     "text": [
      "Salud al maximo\n"
     ]
    }
   ],
   "source": [
    "chuchu.rezar(\"teotl\")"
   ]
  }
 ],
 "metadata": {
  "kernelspec": {
   "display_name": "Python 3",
   "language": "python",
   "name": "python3"
  },
  "language_info": {
   "codemirror_mode": {
    "name": "ipython",
    "version": 3
   },
   "file_extension": ".py",
   "mimetype": "text/x-python",
   "name": "python",
   "nbconvert_exporter": "python",
   "pygments_lexer": "ipython3",
   "version": "3.7.3"
  }
 },
 "nbformat": 4,
 "nbformat_minor": 2
}
