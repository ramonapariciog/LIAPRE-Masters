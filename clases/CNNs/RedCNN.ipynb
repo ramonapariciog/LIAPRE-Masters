{
 "cells": [
  {
   "cell_type": "markdown",
   "metadata": {},
   "source": [
    "# Ejemplo Red CNN"
   ]
  },
  {
   "cell_type": "code",
   "execution_count": 1,
   "metadata": {},
   "outputs": [
    {
     "name": "stderr",
     "output_type": "stream",
     "text": [
      "Using Theano backend.\n",
      "/home/dramon/anaconda3/envs/dlearn/lib/python3.6/site-packages/tensorflow/python/framework/dtypes.py:523: FutureWarning: Passing (type, 1) or '1type' as a synonym of type is deprecated; in a future version of numpy, it will be understood as (type, (1,)) / '(1,)type'.\n",
      "  _np_qint8 = np.dtype([(\"qint8\", np.int8, 1)])\n",
      "/home/dramon/anaconda3/envs/dlearn/lib/python3.6/site-packages/tensorflow/python/framework/dtypes.py:524: FutureWarning: Passing (type, 1) or '1type' as a synonym of type is deprecated; in a future version of numpy, it will be understood as (type, (1,)) / '(1,)type'.\n",
      "  _np_quint8 = np.dtype([(\"quint8\", np.uint8, 1)])\n",
      "/home/dramon/anaconda3/envs/dlearn/lib/python3.6/site-packages/tensorflow/python/framework/dtypes.py:525: FutureWarning: Passing (type, 1) or '1type' as a synonym of type is deprecated; in a future version of numpy, it will be understood as (type, (1,)) / '(1,)type'.\n",
      "  _np_qint16 = np.dtype([(\"qint16\", np.int16, 1)])\n",
      "/home/dramon/anaconda3/envs/dlearn/lib/python3.6/site-packages/tensorflow/python/framework/dtypes.py:526: FutureWarning: Passing (type, 1) or '1type' as a synonym of type is deprecated; in a future version of numpy, it will be understood as (type, (1,)) / '(1,)type'.\n",
      "  _np_quint16 = np.dtype([(\"quint16\", np.uint16, 1)])\n",
      "/home/dramon/anaconda3/envs/dlearn/lib/python3.6/site-packages/tensorflow/python/framework/dtypes.py:527: FutureWarning: Passing (type, 1) or '1type' as a synonym of type is deprecated; in a future version of numpy, it will be understood as (type, (1,)) / '(1,)type'.\n",
      "  _np_qint32 = np.dtype([(\"qint32\", np.int32, 1)])\n",
      "/home/dramon/anaconda3/envs/dlearn/lib/python3.6/site-packages/tensorflow/python/framework/dtypes.py:532: FutureWarning: Passing (type, 1) or '1type' as a synonym of type is deprecated; in a future version of numpy, it will be understood as (type, (1,)) / '(1,)type'.\n",
      "  np_resource = np.dtype([(\"resource\", np.ubyte, 1)])\n"
     ]
    }
   ],
   "source": [
    "import matplotlib.pyplot as plt\n",
    "#matplotlib.use(\"Agg\")\n",
    "\n",
    "from keras.preprocessing.image import ImageDataGenerator\n",
    "from keras.optimizers import Adam\n",
    "from sklearn.model_selection import train_test_split\n",
    "from keras.preprocessing.image import img_to_array\n",
    "from keras.utils import to_categorical\n",
    "\n",
    "# import the necessary packages\n",
    "from keras.models import Sequential\n",
    "from keras.layers.convolutional import Conv2D\n",
    "from keras.layers.convolutional import MaxPooling2D\n",
    "from keras.layers.core import Activation\n",
    "from keras.layers.core import Flatten\n",
    "from keras.layers.core import Dense\n",
    "from keras import backend as K\n",
    "from imutils import paths\n",
    "import matplotlib.pyplot as plt\n",
    "import numpy as np\n",
    "import argparse\n",
    "import random\n",
    "import cv2\n",
    "import os\n",
    "import re\n",
    "from datetime import datetime\n",
    "import imutils"
   ]
  },
  {
   "cell_type": "code",
   "execution_count": 2,
   "metadata": {},
   "outputs": [],
   "source": [
    "class LeNet:\n",
    "    @staticmethod\n",
    "    def build(width, height, depth, classes):\n",
    "        # initialize the model\n",
    "        model = Sequential()\n",
    "        inputShape = (height, width, depth)\n",
    "\n",
    "        # if we are using \"channels first\", update the input shape\n",
    "        if K.image_data_format() == \"channels_first\":\n",
    "            inputShape = (depth, height, width)\n",
    "\n",
    "        # first set of CONV => RELU => POOL layers\n",
    "        model.add(Conv2D(20, (5, 5), padding=\"same\",\n",
    "            input_shape=inputShape))\n",
    "        model.add(Activation(\"relu\"))\n",
    "        model.add(MaxPooling2D(pool_size=(2, 2), strides=(2, 2)))\n",
    "\n",
    "        # second set of CONV => RELU => POOL layers\n",
    "        model.add(Conv2D(50, (5, 5), padding=\"same\"))\n",
    "        model.add(Activation(\"relu\"))\n",
    "        model.add(MaxPooling2D(pool_size=(2, 2), strides=(2, 2)))\n",
    "\n",
    "        # first (and only) set of FC => RELU layers\n",
    "        model.add(Flatten())\n",
    "        model.add(Dense(500))\n",
    "        model.add(Activation(\"relu\"))\n",
    "\n",
    "        # softmax classifier\n",
    "        model.add(Dense(classes))\n",
    "        model.add(Activation(\"softmax\"))\n",
    "\n",
    "        # return the constructed network architecture\n",
    "        return model"
   ]
  },
  {
   "cell_type": "code",
   "execution_count": 24,
   "metadata": {},
   "outputs": [],
   "source": [
    "EPOCHS = 200\n",
    "INIT_LR = 1e-3\n",
    "# its important the batch size be smaller than the total samples\n",
    "BS = 5  # 32\n",
    "RESIZE_SHAPE = (56, 56)"
   ]
  },
  {
   "cell_type": "code",
   "execution_count": 4,
   "metadata": {},
   "outputs": [
    {
     "name": "stdout",
     "output_type": "stream",
     "text": [
      "[INFO] loading images...\n"
     ]
    }
   ],
   "source": [
    "print(\"[INFO] loading images...\")\n",
    "data = []\n",
    "# List all the images in class folders\n",
    "list_images = list(paths.list_images(\"./Trainset\"))"
   ]
  },
  {
   "cell_type": "code",
   "execution_count": 5,
   "metadata": {},
   "outputs": [],
   "source": [
    "random.seed(42)\n",
    "random.shuffle(list_images)\n",
    "# get the id class by the folder name\n",
    "labels = list(map(lambda x: x.split(\"/\")[2], list_images))\n",
    "# Load all images"
   ]
  },
  {
   "cell_type": "code",
   "execution_count": 6,
   "metadata": {},
   "outputs": [],
   "source": [
    "claseno = {'Luffy': 0, 'NoLuffy': 1}\n",
    "codedlabels = list(map(lambda x: claseno[x], labels))"
   ]
  },
  {
   "cell_type": "code",
   "execution_count": 7,
   "metadata": {},
   "outputs": [
    {
     "data": {
      "text/plain": [
       "array([1, 1, 1, 1, 1, 1, 1, 1, 0, 0, 1, 1, 0, 1, 0, 0])"
      ]
     },
     "execution_count": 7,
     "metadata": {},
     "output_type": "execute_result"
    }
   ],
   "source": [
    "# Hace lo mismo que lo que hicimos con el diccionario\n",
    "from sklearn.preprocessing import LabelEncoder\n",
    "LabelEncoder().fit_transform(labels)"
   ]
  },
  {
   "cell_type": "code",
   "execution_count": 8,
   "metadata": {},
   "outputs": [],
   "source": [
    "for imagePath in list_images:\n",
    "    # load the image, pre-process it, and store it in the data list\n",
    "    image = cv2.imread(imagePath, cv2.IMREAD_COLOR)\n",
    "    image = cv2.resize(image, RESIZE_SHAPE)\n",
    "    image = img_to_array(image)\n",
    "    data.append(image)\n",
    "    # preprocess all the images"
   ]
  },
  {
   "cell_type": "code",
   "execution_count": 9,
   "metadata": {},
   "outputs": [
    {
     "name": "stderr",
     "output_type": "stream",
     "text": [
      "Clipping input data to the valid range for imshow with RGB data ([0..1] for floats or [0..255] for integers).\n"
     ]
    },
    {
     "data": {
      "image/png": "[encoded data removed]",
      "text/plain": [
       "<Figure size 720x720 with 1 Axes>"
      ]
     },
     "metadata": {
      "needs_background": "light"
     },
     "output_type": "display_data"
    }
   ],
   "source": [
    "plt.figure(figsize=(10,10))\n",
    "n = 8\n",
    "plt.imshow(imutils.opencv2matplotlib(data[n]))\n",
    "plt.title(labels[n])\n",
    "plt.show()"
   ]
  },
  {
   "cell_type": "code",
   "execution_count": 10,
   "metadata": {},
   "outputs": [],
   "source": [
    "# preprocess all the images\n",
    "data = np.array(data, dtype=\"float\") / 255.0\n",
    "codedlabels = np.array(codedlabels)\n",
    "(trainX, testX, trainY, testY) = train_test_split(data,\\\n",
    "    codedlabels, test_size=0.25, random_state=42)"
   ]
  },
  {
   "cell_type": "code",
   "execution_count": 11,
   "metadata": {},
   "outputs": [],
   "source": [
    "# Class amount and layers\n",
    "nclasses = len(np.unique(labels))\n",
    "layer_depth = data.shape[-1]\n",
    "# The categorical Y entries\n",
    "trainY = to_categorical(trainY, num_classes=nclasses)\n",
    "testY = to_categorical(testY, num_classes=nclasses)"
   ]
  },
  {
   "cell_type": "code",
   "execution_count": 12,
   "metadata": {},
   "outputs": [],
   "source": [
    "aug = ImageDataGenerator(rotation_range=30, width_shift_range=0.1,\n",
    "        height_shift_range=0.1, shear_range=0.2, zoom_range=0.2,\n",
    "        horizontal_flip=True, fill_mode=\"nearest\")"
   ]
  },
  {
   "cell_type": "code",
   "execution_count": 13,
   "metadata": {},
   "outputs": [
    {
     "name": "stdout",
     "output_type": "stream",
     "text": [
      "[INFO] compiling model...\n"
     ]
    }
   ],
   "source": [
    "print(\"[INFO] compiling model...\")\n",
    "w, h = RESIZE_SHAPE\n",
    "model = LeNet.build(width=w, height=h, depth=layer_depth, classes=nclasses)\n",
    "opt = Adam(lr=INIT_LR, decay=INIT_LR / EPOCHS)\n",
    "model.compile(loss=\"binary_crossentropy\", optimizer=opt,\n",
    "    metrics=[\"accuracy\"])\n",
    "# Running model training"
   ]
  },
  {
   "cell_type": "code",
   "execution_count": 25,
   "metadata": {},
   "outputs": [
    {
     "name": "stdout",
     "output_type": "stream",
     "text": [
      "[INFO] training network...\n",
      "Epoch 1/200\n",
      "2/2 [==============================] - 0s 85ms/step - loss: 0.2678 - accuracy: 0.9000 - val_loss: 2.0074 - val_accuracy: 0.5000\n",
      "Epoch 2/200\n",
      "2/2 [==============================] - 0s 95ms/step - loss: 0.2939 - accuracy: 0.8571 - val_loss: 1.8072 - val_accuracy: 0.5000\n",
      "Epoch 3/200\n",
      "2/2 [==============================] - 0s 60ms/step - loss: 0.3334 - accuracy: 0.8571 - val_loss: 1.5989 - val_accuracy: 0.5000\n",
      "Epoch 4/200\n",
      "2/2 [==============================] - 0s 108ms/step - loss: 0.5255 - accuracy: 0.8571 - val_loss: 1.5546 - val_accuracy: 0.5000\n",
      "Epoch 5/200\n",
      "2/2 [==============================] - 0s 103ms/step - loss: 0.1631 - accuracy: 0.9000 - val_loss: 1.5221 - val_accuracy: 0.5000\n",
      "Epoch 6/200\n",
      "2/2 [==============================] - 0s 63ms/step - loss: 0.3137 - accuracy: 0.8571 - val_loss: 1.4314 - val_accuracy: 0.5000\n",
      "Epoch 7/200\n",
      "2/2 [==============================] - 0s 116ms/step - loss: 0.3080 - accuracy: 1.0000 - val_loss: 1.5586 - val_accuracy: 0.5000\n",
      "Epoch 8/200\n",
      "2/2 [==============================] - 0s 87ms/step - loss: 0.2305 - accuracy: 0.9000 - val_loss: 1.7364 - val_accuracy: 0.5000\n",
      "Epoch 9/200\n",
      "2/2 [==============================] - 0s 72ms/step - loss: 0.1638 - accuracy: 0.8571 - val_loss: 1.8154 - val_accuracy: 0.5000\n",
      "Epoch 10/200\n",
      "2/2 [==============================] - 0s 93ms/step - loss: 0.1339 - accuracy: 1.0000 - val_loss: 1.8973 - val_accuracy: 0.5000\n",
      "Epoch 11/200\n",
      "2/2 [==============================] - 0s 107ms/step - loss: 0.0715 - accuracy: 1.0000 - val_loss: 2.0413 - val_accuracy: 0.5000\n",
      "Epoch 12/200\n",
      "2/2 [==============================] - 0s 60ms/step - loss: 1.2495 - accuracy: 0.8571 - val_loss: 3.0872 - val_accuracy: 0.5000\n",
      "Epoch 13/200\n",
      "2/2 [==============================] - 0s 111ms/step - loss: 0.1702 - accuracy: 0.8571 - val_loss: 4.5079 - val_accuracy: 0.2500\n",
      "Epoch 14/200\n",
      "2/2 [==============================] - 0s 80ms/step - loss: 0.2310 - accuracy: 0.9000 - val_loss: 4.8201 - val_accuracy: 0.2500\n",
      "Epoch 15/200\n",
      "2/2 [==============================] - 0s 59ms/step - loss: 0.0805 - accuracy: 1.0000 - val_loss: 4.9932 - val_accuracy: 0.2500\n",
      "Epoch 16/200\n",
      "2/2 [==============================] - 0s 115ms/step - loss: 0.1959 - accuracy: 0.9000 - val_loss: 5.0041 - val_accuracy: 0.2500\n",
      "Epoch 17/200\n",
      "2/2 [==============================] - 0s 76ms/step - loss: 0.3147 - accuracy: 0.8571 - val_loss: 5.1387 - val_accuracy: 0.2500\n",
      "Epoch 18/200\n",
      "2/2 [==============================] - 0s 62ms/step - loss: 0.1917 - accuracy: 1.0000 - val_loss: 4.9425 - val_accuracy: 0.2500\n",
      "Epoch 19/200\n",
      "2/2 [==============================] - 0s 116ms/step - loss: 0.0544 - accuracy: 1.0000 - val_loss: 4.7142 - val_accuracy: 0.2500\n",
      "Epoch 20/200\n",
      "2/2 [==============================] - 0s 77ms/step - loss: 0.0718 - accuracy: 1.0000 - val_loss: 4.7807 - val_accuracy: 0.5000\n",
      "Epoch 21/200\n",
      "2/2 [==============================] - 0s 69ms/step - loss: 0.6208 - accuracy: 0.9000 - val_loss: 4.7119 - val_accuracy: 0.5000\n",
      "Epoch 22/200\n",
      "2/2 [==============================] - 0s 118ms/step - loss: 0.4674 - accuracy: 0.7143 - val_loss: 4.3730 - val_accuracy: 0.2500\n",
      "Epoch 23/200\n",
      "2/2 [==============================] - 0s 109ms/step - loss: 0.1312 - accuracy: 1.0000 - val_loss: 4.0469 - val_accuracy: 0.2500\n",
      "Epoch 24/200\n",
      "2/2 [==============================] - 0s 88ms/step - loss: 0.0403 - accuracy: 1.0000 - val_loss: 3.9389 - val_accuracy: 0.2500\n",
      "Epoch 25/200\n",
      "2/2 [==============================] - 0s 112ms/step - loss: 0.1989 - accuracy: 1.0000 - val_loss: 3.7198 - val_accuracy: 0.2500\n",
      "Epoch 26/200\n",
      "2/2 [==============================] - 0s 100ms/step - loss: 0.4565 - accuracy: 0.8000 - val_loss: 3.0705 - val_accuracy: 0.2500\n",
      "Epoch 27/200\n",
      "2/2 [==============================] - 0s 102ms/step - loss: 0.0748 - accuracy: 1.0000 - val_loss: 2.7730 - val_accuracy: 0.5000\n",
      "Epoch 28/200\n",
      "2/2 [==============================] - 0s 77ms/step - loss: 0.0569 - accuracy: 1.0000 - val_loss: 2.6883 - val_accuracy: 0.5000\n",
      "Epoch 29/200\n",
      "2/2 [==============================] - 0s 106ms/step - loss: 0.3302 - accuracy: 0.8571 - val_loss: 2.6842 - val_accuracy: 0.5000\n",
      "Epoch 30/200\n",
      "2/2 [==============================] - 0s 66ms/step - loss: 0.1894 - accuracy: 0.8571 - val_loss: 2.8012 - val_accuracy: 0.5000\n",
      "Epoch 31/200\n",
      "2/2 [==============================] - 0s 130ms/step - loss: 0.1637 - accuracy: 1.0000 - val_loss: 2.8721 - val_accuracy: 0.5000\n",
      "Epoch 32/200\n",
      "2/2 [==============================] - 0s 112ms/step - loss: 0.0989 - accuracy: 1.0000 - val_loss: 2.9363 - val_accuracy: 0.5000\n",
      "Epoch 33/200\n",
      "2/2 [==============================] - 0s 71ms/step - loss: 0.1249 - accuracy: 1.0000 - val_loss: 3.0042 - val_accuracy: 0.5000\n",
      "Epoch 34/200\n",
      "2/2 [==============================] - 0s 86ms/step - loss: 0.1547 - accuracy: 1.0000 - val_loss: 3.0450 - val_accuracy: 0.5000\n",
      "Epoch 35/200\n",
      "2/2 [==============================] - 0s 133ms/step - loss: 0.2745 - accuracy: 0.8571 - val_loss: 3.1517 - val_accuracy: 0.5000\n",
      "Epoch 36/200\n",
      "2/2 [==============================] - 0s 67ms/step - loss: 0.3672 - accuracy: 0.7143 - val_loss: 3.1458 - val_accuracy: 0.5000\n",
      "Epoch 37/200\n",
      "2/2 [==============================] - 0s 58ms/step - loss: 0.5053 - accuracy: 0.9000 - val_loss: 3.0633 - val_accuracy: 0.5000\n",
      "Epoch 38/200\n",
      "2/2 [==============================] - 0s 166ms/step - loss: 0.0411 - accuracy: 1.0000 - val_loss: 3.3117 - val_accuracy: 0.5000\n",
      "Epoch 39/200\n",
      "2/2 [==============================] - 0s 72ms/step - loss: 0.3189 - accuracy: 0.8571 - val_loss: 3.0179 - val_accuracy: 0.5000\n",
      "Epoch 40/200\n",
      "2/2 [==============================] - 0s 61ms/step - loss: 0.2667 - accuracy: 0.8000 - val_loss: 3.2429 - val_accuracy: 0.5000\n",
      "Epoch 41/200\n",
      "2/2 [==============================] - 0s 181ms/step - loss: 0.1435 - accuracy: 1.0000 - val_loss: 3.3994 - val_accuracy: 0.5000\n",
      "Epoch 42/200\n",
      "2/2 [==============================] - 0s 82ms/step - loss: 0.0407 - accuracy: 1.0000 - val_loss: 3.6050 - val_accuracy: 0.5000\n",
      "Epoch 43/200\n",
      "2/2 [==============================] - 0s 102ms/step - loss: 0.0918 - accuracy: 1.0000 - val_loss: 3.6781 - val_accuracy: 0.5000\n",
      "Epoch 44/200\n",
      "2/2 [==============================] - 0s 99ms/step - loss: 0.0143 - accuracy: 1.0000 - val_loss: 3.7425 - val_accuracy: 0.5000\n",
      "Epoch 45/200\n",
      "2/2 [==============================] - 0s 73ms/step - loss: 0.6094 - accuracy: 0.8000 - val_loss: 3.5698 - val_accuracy: 0.5000\n",
      "Epoch 46/200\n",
      "2/2 [==============================] - 0s 64ms/step - loss: 0.4404 - accuracy: 0.9000 - val_loss: 3.3081 - val_accuracy: 0.5000\n",
      "Epoch 47/200\n",
      "2/2 [==============================] - 0s 130ms/step - loss: 0.0944 - accuracy: 0.8571 - val_loss: 3.0441 - val_accuracy: 0.5000\n",
      "Epoch 48/200\n",
      "2/2 [==============================] - 0s 81ms/step - loss: 0.0377 - accuracy: 1.0000 - val_loss: 2.9014 - val_accuracy: 0.5000\n",
      "Epoch 49/200\n",
      "2/2 [==============================] - 0s 102ms/step - loss: 0.0838 - accuracy: 1.0000 - val_loss: 2.9126 - val_accuracy: 0.5000\n",
      "Epoch 50/200\n",
      "2/2 [==============================] - 0s 100ms/step - loss: 0.3541 - accuracy: 0.8571 - val_loss: 3.1975 - val_accuracy: 0.5000\n",
      "Epoch 51/200\n",
      "2/2 [==============================] - 0s 78ms/step - loss: 0.0161 - accuracy: 1.0000 - val_loss: 3.2923 - val_accuracy: 0.5000\n",
      "Epoch 52/200\n",
      "2/2 [==============================] - 0s 93ms/step - loss: 0.1493 - accuracy: 0.9000 - val_loss: 3.2257 - val_accuracy: 0.5000\n",
      "Epoch 53/200\n",
      "2/2 [==============================] - 0s 90ms/step - loss: 0.1320 - accuracy: 1.0000 - val_loss: 3.2034 - val_accuracy: 0.5000\n",
      "Epoch 54/200\n",
      "2/2 [==============================] - 0s 63ms/step - loss: 0.0364 - accuracy: 1.0000 - val_loss: 3.1051 - val_accuracy: 0.5000\n",
      "Epoch 55/200\n",
      "2/2 [==============================] - 0s 153ms/step - loss: 0.4731 - accuracy: 0.8571 - val_loss: 2.9083 - val_accuracy: 0.5000\n",
      "Epoch 56/200\n",
      "2/2 [==============================] - 0s 69ms/step - loss: 0.1685 - accuracy: 0.9000 - val_loss: 2.9985 - val_accuracy: 0.5000\n",
      "Epoch 57/200\n",
      "2/2 [==============================] - 0s 72ms/step - loss: 0.2042 - accuracy: 0.8571 - val_loss: 3.3511 - val_accuracy: 0.5000\n",
      "Epoch 58/200\n",
      "2/2 [==============================] - 0s 94ms/step - loss: 0.0470 - accuracy: 1.0000 - val_loss: 3.5624 - val_accuracy: 0.5000\n"
     ]
    },
    {
     "name": "stdout",
     "output_type": "stream",
     "text": [
      "Epoch 59/200\n",
      "2/2 [==============================] - 0s 104ms/step - loss: 0.0107 - accuracy: 1.0000 - val_loss: 3.7624 - val_accuracy: 0.5000\n",
      "Epoch 60/200\n",
      "2/2 [==============================] - 0s 60ms/step - loss: 0.0309 - accuracy: 1.0000 - val_loss: 3.9610 - val_accuracy: 0.5000\n",
      "Epoch 61/200\n",
      "2/2 [==============================] - 0s 92ms/step - loss: 0.0379 - accuracy: 1.0000 - val_loss: 4.1990 - val_accuracy: 0.5000\n",
      "Epoch 62/200\n",
      "2/2 [==============================] - 0s 150ms/step - loss: 0.6323 - accuracy: 0.9000 - val_loss: 4.2606 - val_accuracy: 0.5000\n",
      "Epoch 63/200\n",
      "2/2 [==============================] - 0s 51ms/step - loss: 0.0334 - accuracy: 1.0000 - val_loss: 4.1783 - val_accuracy: 0.5000\n",
      "Epoch 64/200\n",
      "2/2 [==============================] - 0s 103ms/step - loss: 0.0933 - accuracy: 1.0000 - val_loss: 4.2912 - val_accuracy: 0.5000\n",
      "Epoch 65/200\n",
      "2/2 [==============================] - 0s 85ms/step - loss: 0.0619 - accuracy: 1.0000 - val_loss: 4.3942 - val_accuracy: 0.5000\n",
      "Epoch 66/200\n",
      "2/2 [==============================] - 0s 64ms/step - loss: 0.0661 - accuracy: 1.0000 - val_loss: 4.4180 - val_accuracy: 0.5000\n",
      "Epoch 67/200\n",
      "2/2 [==============================] - 0s 95ms/step - loss: 0.0114 - accuracy: 1.0000 - val_loss: 4.2587 - val_accuracy: 0.5000\n",
      "Epoch 68/200\n",
      "2/2 [==============================] - 0s 56ms/step - loss: 0.3504 - accuracy: 0.7143 - val_loss: 3.9319 - val_accuracy: 0.5000\n",
      "Epoch 69/200\n",
      "2/2 [==============================] - 0s 54ms/step - loss: 0.0614 - accuracy: 1.0000 - val_loss: 3.7750 - val_accuracy: 0.5000\n",
      "Epoch 70/200\n",
      "2/2 [==============================] - 0s 117ms/step - loss: 0.0333 - accuracy: 1.0000 - val_loss: 3.7323 - val_accuracy: 0.5000\n",
      "Epoch 71/200\n",
      "2/2 [==============================] - 0s 101ms/step - loss: 0.3233 - accuracy: 0.8571 - val_loss: 3.8137 - val_accuracy: 0.5000\n",
      "Epoch 72/200\n",
      "2/2 [==============================] - 0s 64ms/step - loss: 0.0766 - accuracy: 1.0000 - val_loss: 3.9143 - val_accuracy: 0.5000\n",
      "Epoch 73/200\n",
      "2/2 [==============================] - 0s 121ms/step - loss: 0.0147 - accuracy: 1.0000 - val_loss: 4.1053 - val_accuracy: 0.5000\n",
      "Epoch 74/200\n",
      "2/2 [==============================] - 0s 82ms/step - loss: 0.0291 - accuracy: 1.0000 - val_loss: 4.2009 - val_accuracy: 0.5000\n",
      "Epoch 75/200\n",
      "2/2 [==============================] - 0s 100ms/step - loss: 0.0078 - accuracy: 1.0000 - val_loss: 4.2360 - val_accuracy: 0.5000\n",
      "Epoch 76/200\n",
      "2/2 [==============================] - 0s 76ms/step - loss: 0.0225 - accuracy: 1.0000 - val_loss: 4.2879 - val_accuracy: 0.5000\n",
      "Epoch 77/200\n",
      "2/2 [==============================] - 0s 116ms/step - loss: 0.0531 - accuracy: 1.0000 - val_loss: 4.3973 - val_accuracy: 0.5000\n",
      "Epoch 78/200\n",
      "2/2 [==============================] - 0s 67ms/step - loss: 0.0070 - accuracy: 1.0000 - val_loss: 4.5390 - val_accuracy: 0.5000\n",
      "Epoch 79/200\n",
      "2/2 [==============================] - 0s 72ms/step - loss: 0.0446 - accuracy: 1.0000 - val_loss: 4.6753 - val_accuracy: 0.5000\n",
      "Epoch 80/200\n",
      "2/2 [==============================] - 0s 114ms/step - loss: 0.0050 - accuracy: 1.0000 - val_loss: 4.7988 - val_accuracy: 0.5000\n",
      "Epoch 81/200\n",
      "2/2 [==============================] - 0s 55ms/step - loss: 0.2795 - accuracy: 0.8571 - val_loss: 4.3183 - val_accuracy: 0.5000\n",
      "Epoch 82/200\n",
      "2/2 [==============================] - 0s 76ms/step - loss: 0.1770 - accuracy: 0.8571 - val_loss: 3.4114 - val_accuracy: 0.5000\n",
      "Epoch 83/200\n",
      "2/2 [==============================] - 0s 136ms/step - loss: 0.0534 - accuracy: 1.0000 - val_loss: 2.9870 - val_accuracy: 0.2500\n",
      "Epoch 84/200\n",
      "2/2 [==============================] - 0s 60ms/step - loss: 0.0329 - accuracy: 1.0000 - val_loss: 2.9962 - val_accuracy: 0.2500\n",
      "Epoch 85/200\n",
      "2/2 [==============================] - 0s 63ms/step - loss: 0.0357 - accuracy: 1.0000 - val_loss: 3.0293 - val_accuracy: 0.2500\n",
      "Epoch 86/200\n",
      "2/2 [==============================] - 0s 165ms/step - loss: 0.0314 - accuracy: 1.0000 - val_loss: 3.0908 - val_accuracy: 0.2500\n",
      "Epoch 87/200\n",
      "2/2 [==============================] - 0s 48ms/step - loss: 0.1400 - accuracy: 1.0000 - val_loss: 3.4833 - val_accuracy: 0.2500\n",
      "Epoch 88/200\n",
      "2/2 [==============================] - 0s 163ms/step - loss: 0.0230 - accuracy: 1.0000 - val_loss: 3.8427 - val_accuracy: 0.2500\n",
      "Epoch 89/200\n",
      "2/2 [==============================] - 0s 82ms/step - loss: 0.4062 - accuracy: 0.7143 - val_loss: 3.5157 - val_accuracy: 0.2500\n",
      "Epoch 90/200\n",
      "2/2 [==============================] - 0s 58ms/step - loss: 0.0932 - accuracy: 0.8571 - val_loss: 3.0092 - val_accuracy: 0.2500\n",
      "Epoch 91/200\n",
      "2/2 [==============================] - 0s 103ms/step - loss: 0.7549 - accuracy: 0.8571 - val_loss: 3.1165 - val_accuracy: 0.5000\n",
      "Epoch 92/200\n",
      "2/2 [==============================] - 0s 108ms/step - loss: 0.2509 - accuracy: 0.9000 - val_loss: 3.0689 - val_accuracy: 0.2500\n",
      "Epoch 93/200\n",
      "2/2 [==============================] - 0s 52ms/step - loss: 0.0789 - accuracy: 1.0000 - val_loss: 3.2156 - val_accuracy: 0.2500\n",
      "Epoch 94/200\n",
      "2/2 [==============================] - 0s 110ms/step - loss: 0.1116 - accuracy: 1.0000 - val_loss: 3.3794 - val_accuracy: 0.2500\n",
      "Epoch 95/200\n",
      "2/2 [==============================] - 0s 95ms/step - loss: 0.1137 - accuracy: 0.9000 - val_loss: 3.6377 - val_accuracy: 0.2500\n",
      "Epoch 96/200\n",
      "2/2 [==============================] - 0s 58ms/step - loss: 0.1489 - accuracy: 1.0000 - val_loss: 3.7355 - val_accuracy: 0.2500\n",
      "Epoch 97/200\n",
      "2/2 [==============================] - 0s 120ms/step - loss: 0.1201 - accuracy: 1.0000 - val_loss: 3.8183 - val_accuracy: 0.2500\n",
      "Epoch 98/200\n",
      "2/2 [==============================] - 0s 82ms/step - loss: 0.0041 - accuracy: 1.0000 - val_loss: 3.9430 - val_accuracy: 0.2500\n",
      "Epoch 99/200\n",
      "2/2 [==============================] - 0s 74ms/step - loss: 0.1072 - accuracy: 0.9000 - val_loss: 4.0971 - val_accuracy: 0.2500\n",
      "Epoch 100/200\n",
      "2/2 [==============================] - 0s 94ms/step - loss: 0.0644 - accuracy: 1.0000 - val_loss: 4.2502 - val_accuracy: 0.2500\n",
      "Epoch 101/200\n",
      "2/2 [==============================] - 0s 105ms/step - loss: 0.0275 - accuracy: 1.0000 - val_loss: 4.4342 - val_accuracy: 0.2500\n",
      "Epoch 102/200\n",
      "2/2 [==============================] - 0s 53ms/step - loss: 0.0415 - accuracy: 1.0000 - val_loss: 4.5926 - val_accuracy: 0.2500\n",
      "Epoch 103/200\n",
      "2/2 [==============================] - 0s 118ms/step - loss: 0.1968 - accuracy: 0.9000 - val_loss: 4.8373 - val_accuracy: 0.2500\n",
      "Epoch 104/200\n",
      "2/2 [==============================] - 0s 103ms/step - loss: 0.0053 - accuracy: 1.0000 - val_loss: 5.1382 - val_accuracy: 0.2500\n",
      "Epoch 105/200\n",
      "2/2 [==============================] - 0s 72ms/step - loss: 0.0152 - accuracy: 1.0000 - val_loss: 5.2754 - val_accuracy: 0.2500\n",
      "Epoch 106/200\n",
      "2/2 [==============================] - 0s 95ms/step - loss: 0.3393 - accuracy: 0.8571 - val_loss: 4.7851 - val_accuracy: 0.2500\n",
      "Epoch 107/200\n",
      "2/2 [==============================] - 0s 110ms/step - loss: 0.1292 - accuracy: 0.9000 - val_loss: 4.4612 - val_accuracy: 0.2500\n",
      "Epoch 108/200\n",
      "2/2 [==============================] - 0s 56ms/step - loss: 0.1057 - accuracy: 0.8571 - val_loss: 4.4071 - val_accuracy: 0.2500\n",
      "Epoch 109/200\n",
      "2/2 [==============================] - 0s 91ms/step - loss: 0.0282 - accuracy: 1.0000 - val_loss: 4.4055 - val_accuracy: 0.2500\n",
      "Epoch 110/200\n",
      "2/2 [==============================] - 0s 112ms/step - loss: 0.0258 - accuracy: 1.0000 - val_loss: 4.4102 - val_accuracy: 0.2500\n",
      "Epoch 111/200\n",
      "2/2 [==============================] - 0s 67ms/step - loss: 0.0156 - accuracy: 1.0000 - val_loss: 4.4281 - val_accuracy: 0.2500\n",
      "Epoch 112/200\n",
      "2/2 [==============================] - 0s 91ms/step - loss: 0.0859 - accuracy: 1.0000 - val_loss: 4.7016 - val_accuracy: 0.2500\n",
      "Epoch 113/200\n",
      "2/2 [==============================] - 0s 100ms/step - loss: 0.0591 - accuracy: 1.0000 - val_loss: 4.9728 - val_accuracy: 0.2500\n",
      "Epoch 114/200\n",
      "2/2 [==============================] - 0s 65ms/step - loss: 0.0423 - accuracy: 1.0000 - val_loss: 5.2330 - val_accuracy: 0.2500\n",
      "Epoch 115/200\n",
      "2/2 [==============================] - 0s 89ms/step - loss: 0.2156 - accuracy: 1.0000 - val_loss: 5.3285 - val_accuracy: 0.2500\n",
      "Epoch 116/200\n",
      "2/2 [==============================] - 0s 111ms/step - loss: 0.0901 - accuracy: 1.0000 - val_loss: 5.0417 - val_accuracy: 0.2500\n"
     ]
    },
    {
     "name": "stdout",
     "output_type": "stream",
     "text": [
      "Epoch 117/200\n",
      "2/2 [==============================] - 0s 62ms/step - loss: 0.1138 - accuracy: 1.0000 - val_loss: 5.0113 - val_accuracy: 0.2500\n",
      "Epoch 118/200\n",
      "2/2 [==============================] - 0s 95ms/step - loss: 0.5740 - accuracy: 0.8571 - val_loss: 4.7059 - val_accuracy: 0.2500\n",
      "Epoch 119/200\n",
      "2/2 [==============================] - 0s 91ms/step - loss: 0.0162 - accuracy: 1.0000 - val_loss: 5.3388 - val_accuracy: 0.2500\n",
      "Epoch 120/200\n",
      "2/2 [==============================] - 0s 78ms/step - loss: 0.8462 - accuracy: 0.8000 - val_loss: 3.7187 - val_accuracy: 0.5000\n",
      "Epoch 121/200\n",
      "2/2 [==============================] - 0s 87ms/step - loss: 0.0598 - accuracy: 1.0000 - val_loss: 2.4679 - val_accuracy: 0.5000\n",
      "Epoch 122/200\n",
      "2/2 [==============================] - 0s 99ms/step - loss: 0.0822 - accuracy: 1.0000 - val_loss: 1.9114 - val_accuracy: 0.5000\n",
      "Epoch 123/200\n",
      "2/2 [==============================] - 0s 67ms/step - loss: 0.2403 - accuracy: 0.8000 - val_loss: 1.9203 - val_accuracy: 0.5000\n",
      "Epoch 124/200\n",
      "2/2 [==============================] - 0s 101ms/step - loss: 0.3163 - accuracy: 0.8000 - val_loss: 1.9835 - val_accuracy: 0.5000\n",
      "Epoch 125/200\n",
      "2/2 [==============================] - 0s 114ms/step - loss: 0.1482 - accuracy: 1.0000 - val_loss: 2.1432 - val_accuracy: 0.5000\n",
      "Epoch 126/200\n",
      "2/2 [==============================] - 0s 58ms/step - loss: 0.2531 - accuracy: 0.8571 - val_loss: 2.2574 - val_accuracy: 0.5000\n",
      "Epoch 127/200\n",
      "2/2 [==============================] - 0s 80ms/step - loss: 0.0670 - accuracy: 1.0000 - val_loss: 2.3638 - val_accuracy: 0.5000\n",
      "Epoch 128/200\n",
      "2/2 [==============================] - 0s 106ms/step - loss: 0.1411 - accuracy: 1.0000 - val_loss: 2.5355 - val_accuracy: 0.5000\n",
      "Epoch 129/200\n",
      "2/2 [==============================] - 0s 68ms/step - loss: 0.0407 - accuracy: 1.0000 - val_loss: 2.7972 - val_accuracy: 0.5000\n",
      "Epoch 130/200\n",
      "2/2 [==============================] - 0s 90ms/step - loss: 0.0236 - accuracy: 1.0000 - val_loss: 3.0529 - val_accuracy: 0.5000\n",
      "Epoch 131/200\n",
      "2/2 [==============================] - 0s 112ms/step - loss: 0.0923 - accuracy: 1.0000 - val_loss: 3.2177 - val_accuracy: 0.5000\n",
      "Epoch 132/200\n",
      "2/2 [==============================] - 0s 74ms/step - loss: 0.0545 - accuracy: 1.0000 - val_loss: 3.3607 - val_accuracy: 0.5000\n",
      "Epoch 133/200\n",
      "2/2 [==============================] - 0s 92ms/step - loss: 0.0379 - accuracy: 1.0000 - val_loss: 3.5546 - val_accuracy: 0.5000\n",
      "Epoch 134/200\n",
      "2/2 [==============================] - 0s 94ms/step - loss: 0.0086 - accuracy: 1.0000 - val_loss: 3.7493 - val_accuracy: 0.5000\n",
      "Epoch 135/200\n",
      "2/2 [==============================] - 0s 69ms/step - loss: 0.0198 - accuracy: 1.0000 - val_loss: 3.9378 - val_accuracy: 0.5000\n",
      "Epoch 136/200\n",
      "2/2 [==============================] - 0s 91ms/step - loss: 0.0058 - accuracy: 1.0000 - val_loss: 4.1238 - val_accuracy: 0.5000\n",
      "Epoch 137/200\n",
      "2/2 [==============================] - 0s 116ms/step - loss: 0.0728 - accuracy: 1.0000 - val_loss: 4.3706 - val_accuracy: 0.5000\n",
      "Epoch 138/200\n",
      "2/2 [==============================] - 0s 59ms/step - loss: 0.0333 - accuracy: 1.0000 - val_loss: 4.6652 - val_accuracy: 0.5000\n",
      "Epoch 139/200\n",
      "2/2 [==============================] - 0s 101ms/step - loss: 0.0033 - accuracy: 1.0000 - val_loss: 4.9097 - val_accuracy: 0.5000\n",
      "Epoch 140/200\n",
      "2/2 [==============================] - 0s 114ms/step - loss: 2.5503e-04 - accuracy: 1.0000 - val_loss: 5.1252 - val_accuracy: 0.5000\n",
      "Epoch 141/200\n",
      "2/2 [==============================] - 0s 58ms/step - loss: 0.0074 - accuracy: 1.0000 - val_loss: 5.2962 - val_accuracy: 0.5000\n",
      "Epoch 142/200\n",
      "2/2 [==============================] - 0s 76ms/step - loss: 0.0163 - accuracy: 1.0000 - val_loss: 5.4624 - val_accuracy: 0.5000\n",
      "Epoch 143/200\n",
      "2/2 [==============================] - 0s 136ms/step - loss: 0.0021 - accuracy: 1.0000 - val_loss: 5.5614 - val_accuracy: 0.5000\n",
      "Epoch 144/200\n",
      "2/2 [==============================] - 0s 84ms/step - loss: 7.4084e-04 - accuracy: 1.0000 - val_loss: 5.6554 - val_accuracy: 0.5000\n",
      "Epoch 145/200\n",
      "2/2 [==============================] - 0s 71ms/step - loss: 0.0737 - accuracy: 0.9000 - val_loss: 5.5235 - val_accuracy: 0.5000\n",
      "Epoch 146/200\n",
      "2/2 [==============================] - 0s 107ms/step - loss: 0.0351 - accuracy: 1.0000 - val_loss: 5.6338 - val_accuracy: 0.5000\n",
      "Epoch 147/200\n",
      "2/2 [==============================] - 0s 60ms/step - loss: 0.0173 - accuracy: 1.0000 - val_loss: 5.7179 - val_accuracy: 0.5000\n",
      "Epoch 148/200\n",
      "2/2 [==============================] - 0s 93ms/step - loss: 0.0021 - accuracy: 1.0000 - val_loss: 5.7491 - val_accuracy: 0.5000\n",
      "Epoch 149/200\n",
      "2/2 [==============================] - 0s 122ms/step - loss: 0.0011 - accuracy: 1.0000 - val_loss: 5.5682 - val_accuracy: 0.5000\n",
      "Epoch 150/200\n",
      "2/2 [==============================] - 0s 69ms/step - loss: 0.0011 - accuracy: 1.0000 - val_loss: 5.4106 - val_accuracy: 0.5000\n",
      "Epoch 151/200\n",
      "2/2 [==============================] - 0s 71ms/step - loss: 0.0033 - accuracy: 1.0000 - val_loss: 5.2452 - val_accuracy: 0.5000\n",
      "Epoch 152/200\n",
      "2/2 [==============================] - 0s 117ms/step - loss: 3.1296e-04 - accuracy: 1.0000 - val_loss: 5.0975 - val_accuracy: 0.5000\n",
      "Epoch 153/200\n",
      "2/2 [==============================] - 0s 64ms/step - loss: 0.0023 - accuracy: 1.0000 - val_loss: 4.9914 - val_accuracy: 0.5000\n",
      "Epoch 154/200\n",
      "2/2 [==============================] - 0s 121ms/step - loss: 0.0102 - accuracy: 1.0000 - val_loss: 5.0953 - val_accuracy: 0.5000\n",
      "Epoch 155/200\n",
      "2/2 [==============================] - 0s 94ms/step - loss: 5.8903e-04 - accuracy: 1.0000 - val_loss: 5.2642 - val_accuracy: 0.5000\n",
      "Epoch 156/200\n",
      "2/2 [==============================] - 0s 67ms/step - loss: 0.0168 - accuracy: 1.0000 - val_loss: 5.2498 - val_accuracy: 0.5000\n",
      "Epoch 157/200\n",
      "2/2 [==============================] - 0s 67ms/step - loss: 0.0044 - accuracy: 1.0000 - val_loss: 5.1963 - val_accuracy: 0.5000\n",
      "Epoch 158/200\n",
      "2/2 [==============================] - 0s 130ms/step - loss: 0.0074 - accuracy: 1.0000 - val_loss: 5.2179 - val_accuracy: 0.5000\n",
      "Epoch 159/200\n",
      "2/2 [==============================] - 0s 65ms/step - loss: 4.2443e-04 - accuracy: 1.0000 - val_loss: 5.2949 - val_accuracy: 0.5000\n",
      "Epoch 160/200\n",
      "2/2 [==============================] - 0s 79ms/step - loss: 0.0013 - accuracy: 1.0000 - val_loss: 5.3731 - val_accuracy: 0.5000\n",
      "Epoch 161/200\n",
      "2/2 [==============================] - 0s 113ms/step - loss: 1.1231e-04 - accuracy: 1.0000 - val_loss: 5.4461 - val_accuracy: 0.5000\n",
      "Epoch 162/200\n",
      "2/2 [==============================] - 0s 65ms/step - loss: 0.0068 - accuracy: 1.0000 - val_loss: 5.5274 - val_accuracy: 0.5000\n",
      "Epoch 163/200\n",
      "2/2 [==============================] - 0s 73ms/step - loss: 1.1039e-04 - accuracy: 1.0000 - val_loss: 5.6194 - val_accuracy: 0.5000\n",
      "Epoch 164/200\n",
      "2/2 [==============================] - 0s 110ms/step - loss: 0.0182 - accuracy: 1.0000 - val_loss: 5.8794 - val_accuracy: 0.5000\n",
      "Epoch 165/200\n",
      "2/2 [==============================] - 0s 85ms/step - loss: 7.2067e-05 - accuracy: 1.0000 - val_loss: 5.7566 - val_accuracy: 0.5000\n",
      "Epoch 166/200\n",
      "2/2 [==============================] - 0s 113ms/step - loss: 1.4066e-04 - accuracy: 1.0000 - val_loss: 5.6184 - val_accuracy: 0.5000\n",
      "Epoch 167/200\n",
      "2/2 [==============================] - 0s 136ms/step - loss: 4.3962e-06 - accuracy: 1.0000 - val_loss: 5.5116 - val_accuracy: 0.5000\n",
      "Epoch 168/200\n",
      "2/2 [==============================] - 0s 77ms/step - loss: 0.0099 - accuracy: 1.0000 - val_loss: 5.4715 - val_accuracy: 0.5000\n",
      "Epoch 169/200\n",
      "2/2 [==============================] - 0s 67ms/step - loss: 0.0122 - accuracy: 1.0000 - val_loss: 5.5355 - val_accuracy: 0.5000\n",
      "Epoch 170/200\n",
      "2/2 [==============================] - 0s 130ms/step - loss: 6.0183e-04 - accuracy: 1.0000 - val_loss: 5.5852 - val_accuracy: 0.5000\n",
      "Epoch 171/200\n",
      "2/2 [==============================] - 0s 105ms/step - loss: 0.6260 - accuracy: 0.7143 - val_loss: 5.8192 - val_accuracy: 0.2500\n",
      "Epoch 172/200\n",
      "2/2 [==============================] - 0s 75ms/step - loss: 0.7595 - accuracy: 0.7143 - val_loss: 5.1339 - val_accuracy: 0.5000\n",
      "Epoch 173/200\n",
      "2/2 [==============================] - 0s 82ms/step - loss: 0.2797 - accuracy: 0.9000 - val_loss: 4.3012 - val_accuracy: 0.5000\n",
      "Epoch 174/200\n"
     ]
    },
    {
     "name": "stdout",
     "output_type": "stream",
     "text": [
      "2/2 [==============================] - 0s 66ms/step - loss: 0.4969 - accuracy: 0.8571 - val_loss: 4.0993 - val_accuracy: 0.7500\n",
      "Epoch 175/200\n",
      "2/2 [==============================] - 0s 107ms/step - loss: 0.2802 - accuracy: 0.8571 - val_loss: 5.5757 - val_accuracy: 0.5000\n",
      "Epoch 176/200\n",
      "2/2 [==============================] - 0s 107ms/step - loss: 0.0455 - accuracy: 1.0000 - val_loss: 5.5267 - val_accuracy: 0.5000\n",
      "Epoch 177/200\n",
      "2/2 [==============================] - 0s 65ms/step - loss: 0.1887 - accuracy: 0.8571 - val_loss: 5.0793 - val_accuracy: 0.5000\n",
      "Epoch 178/200\n",
      "2/2 [==============================] - 0s 118ms/step - loss: 0.0608 - accuracy: 1.0000 - val_loss: 4.4739 - val_accuracy: 0.5000\n",
      "Epoch 179/200\n",
      "2/2 [==============================] - 0s 73ms/step - loss: 0.0340 - accuracy: 1.0000 - val_loss: 4.1142 - val_accuracy: 0.5000\n",
      "Epoch 180/200\n",
      "2/2 [==============================] - 0s 72ms/step - loss: 0.6781 - accuracy: 0.9000 - val_loss: 3.9290 - val_accuracy: 0.5000\n",
      "Epoch 181/200\n",
      "2/2 [==============================] - 0s 103ms/step - loss: 0.0331 - accuracy: 1.0000 - val_loss: 3.7953 - val_accuracy: 0.5000\n",
      "Epoch 182/200\n",
      "2/2 [==============================] - 0s 101ms/step - loss: 0.2954 - accuracy: 0.9000 - val_loss: 3.6739 - val_accuracy: 0.5000\n",
      "Epoch 183/200\n",
      "2/2 [==============================] - 0s 63ms/step - loss: 0.3013 - accuracy: 0.8571 - val_loss: 3.9156 - val_accuracy: 0.5000\n",
      "Epoch 184/200\n",
      "2/2 [==============================] - 0s 102ms/step - loss: 0.0807 - accuracy: 1.0000 - val_loss: 4.1550 - val_accuracy: 0.5000\n",
      "Epoch 185/200\n",
      "2/2 [==============================] - 0s 100ms/step - loss: 0.0809 - accuracy: 1.0000 - val_loss: 4.3738 - val_accuracy: 0.5000\n",
      "Epoch 186/200\n",
      "2/2 [==============================] - 0s 89ms/step - loss: 0.2415 - accuracy: 0.8571 - val_loss: 4.4427 - val_accuracy: 0.5000\n",
      "Epoch 187/200\n",
      "2/2 [==============================] - 0s 87ms/step - loss: 0.2867 - accuracy: 0.9000 - val_loss: 4.5599 - val_accuracy: 0.5000\n",
      "Epoch 188/200\n",
      "2/2 [==============================] - 0s 103ms/step - loss: 0.0848 - accuracy: 1.0000 - val_loss: 4.7109 - val_accuracy: 0.5000\n",
      "Epoch 189/200\n",
      "2/2 [==============================] - 0s 71ms/step - loss: 0.0164 - accuracy: 1.0000 - val_loss: 5.0034 - val_accuracy: 0.5000\n",
      "Epoch 190/200\n",
      "2/2 [==============================] - 0s 102ms/step - loss: 0.0705 - accuracy: 1.0000 - val_loss: 5.2981 - val_accuracy: 0.5000\n",
      "Epoch 191/200\n",
      "2/2 [==============================] - 0s 86ms/step - loss: 0.0659 - accuracy: 1.0000 - val_loss: 5.4568 - val_accuracy: 0.5000\n",
      "Epoch 192/200\n",
      "2/2 [==============================] - 0s 76ms/step - loss: 0.1652 - accuracy: 0.9000 - val_loss: 5.5771 - val_accuracy: 0.5000\n",
      "Epoch 193/200\n",
      "2/2 [==============================] - 0s 104ms/step - loss: 0.0261 - accuracy: 1.0000 - val_loss: 5.6183 - val_accuracy: 0.5000\n",
      "Epoch 194/200\n",
      "2/2 [==============================] - 0s 99ms/step - loss: 0.0385 - accuracy: 1.0000 - val_loss: 5.6863 - val_accuracy: 0.5000\n",
      "Epoch 195/200\n",
      "2/2 [==============================] - 0s 63ms/step - loss: 0.0044 - accuracy: 1.0000 - val_loss: 5.7209 - val_accuracy: 0.5000\n",
      "Epoch 196/200\n",
      "2/2 [==============================] - 0s 100ms/step - loss: 0.0171 - accuracy: 1.0000 - val_loss: 5.8395 - val_accuracy: 0.5000\n",
      "Epoch 197/200\n",
      "2/2 [==============================] - 0s 94ms/step - loss: 0.0547 - accuracy: 1.0000 - val_loss: 6.1369 - val_accuracy: 0.5000\n",
      "Epoch 198/200\n",
      "2/2 [==============================] - 0s 70ms/step - loss: 0.0120 - accuracy: 1.0000 - val_loss: 6.3110 - val_accuracy: 0.5000\n",
      "Epoch 199/200\n",
      "2/2 [==============================] - 0s 116ms/step - loss: 0.1062 - accuracy: 0.9000 - val_loss: 7.1130 - val_accuracy: 0.5000\n",
      "Epoch 200/200\n",
      "2/2 [==============================] - 0s 77ms/step - loss: 0.0870 - accuracy: 1.0000 - val_loss: 6.9114 - val_accuracy: 0.5000\n"
     ]
    }
   ],
   "source": [
    "print(\"[INFO] training network...\")\n",
    "H = model.fit_generator(aug.flow(trainX, trainY, batch_size=BS),\n",
    "    validation_data=(testX, testY), steps_per_epoch=len(trainX) // BS,\n",
    "    epochs=EPOCHS, verbose=1)\n",
    "# save the model to disk"
   ]
  },
  {
   "cell_type": "code",
   "execution_count": null,
   "metadata": {},
   "outputs": [],
   "source": [
    "print(\"[INFO] serializing network...\")\n",
    "currentTime = datetime.now().strftime(\"%S%M%H_%d%m%Y\")\n",
    "model.save(f\"./Resultados/modelo_upd_{currentTime}\")"
   ]
  },
  {
   "cell_type": "code",
   "execution_count": 26,
   "metadata": {},
   "outputs": [
    {
     "data": {
      "image/png": "[encoded data removed]",
      "text/plain": [
       "<Figure size 432x288 with 1 Axes>"
      ]
     },
     "metadata": {
      "needs_background": "light"
     },
     "output_type": "display_data"
    }
   ],
   "source": [
    "#plt.style.use(\"ggplot\")\n",
    "plt.figure()\n",
    "N = EPOCHS\n",
    "plt.plot(np.arange(0, N), H.history[\"loss\"], label=\"train_loss\")\n",
    "plt.plot(np.arange(0, N), H.history[\"val_loss\"], label=\"val_loss\")\n",
    "plt.plot(np.arange(0, N), H.history[\"accuracy\"], label=\"train_acc\")\n",
    "plt.plot(np.arange(0, N), H.history[\"val_accuracy\"], label=\"val_acc\")\n",
    "plt.title(\"Training Loss and Accuracy QL ventana 50F1\")\n",
    "plt.xlabel(\"Epoch #\")\n",
    "plt.ylabel(\"Loss/Accuracy\")\n",
    "plt.legend(loc=\"lower left\")\n",
    "plt.show()\n",
    "#plt.savefig(f\"./Resultados/modelo_upd_{currentTime}.png\")"
   ]
  },
  {
   "cell_type": "markdown",
   "metadata": {},
   "source": [
    "# Probar red"
   ]
  },
  {
   "cell_type": "code",
   "execution_count": 18,
   "metadata": {},
   "outputs": [],
   "source": [
    "from keras.preprocessing.image import img_to_array"
   ]
  },
  {
   "cell_type": "code",
   "execution_count": 31,
   "metadata": {},
   "outputs": [
    {
     "data": {
      "text/plain": [
       "'NoLuffy'"
      ]
     },
     "execution_count": 31,
     "metadata": {},
     "output_type": "execute_result"
    }
   ],
   "source": [
    "def clasifica(path_image):\n",
    "    prueba = cv2.imread(path_image, cv2.IMREAD_COLOR)\n",
    "    prueba_resized = cv2.resize(prueba, (w, h))\n",
    "    prueba_resized = prueba_resized.astype(\"float\") / 255.0\n",
    "    prueba_resized = img_to_array(prueba_resized)\n",
    "    prueba_resized2 = np.expand_dims(prueba_resized, axis=0)\n",
    "    prueba_resized.shape\n",
    "    resultado = model.predict(prueba_resized2)[0]\n",
    "    return [\"Luffy\", \"NoLuffy\"][np.argmax(resultado)]\n",
    "\n",
    "clasifica(\"/home/dramon/Pictures/ore_no_e/One Piece/78997.jpg\")"
   ]
  }
 ],
 "metadata": {
  "kernelspec": {
   "display_name": "Python (DL)",
   "language": "python",
   "name": "dlearn"
  },
  "language_info": {
   "codemirror_mode": {
    "name": "ipython",
    "version": 3
   },
   "file_extension": ".py",
   "mimetype": "text/x-python",
   "name": "python",
   "nbconvert_exporter": "python",
   "pygments_lexer": "ipython3",
   "version": "3.6.7"
  }
 },
 "nbformat": 4,
 "nbformat_minor": 2
}
