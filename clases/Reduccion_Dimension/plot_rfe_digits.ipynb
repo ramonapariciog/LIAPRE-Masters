{
 "cells": [
  {
   "cell_type": "code",
   "execution_count": 4,
   "metadata": {},
   "outputs": [],
   "source": [
    "%matplotlib inline"
   ]
  },
  {
   "cell_type": "markdown",
   "metadata": {},
   "source": [
    "\n",
    "# Recursive feature elimination\n",
    "\n",
    "\n",
    "A recursive feature elimination example showing the relevance of pixels in\n",
    "a digit classification task.\n",
    "\n",
    "<div class=\"alert alert-info\"><h4>Note</h4><p>See also `sphx_glr_auto_examples_feature_selection_plot_rfe_with_cross_validation.py`</p></div>\n",
    "\n",
    "\n"
   ]
  },
  {
   "cell_type": "code",
   "execution_count": 6,
   "metadata": {},
   "outputs": [
    {
     "name": "stdout",
     "output_type": "stream",
     "text": [
      "Automatically created module for IPython interactive environment\n"
     ]
    }
   ],
   "source": [
    "print(__doc__)\n",
    "\n",
    "from sklearn.svm import SVC\n",
    "from sklearn.datasets import load_digits\n",
    "from sklearn.feature_selection import RFE\n",
    "import matplotlib.pyplot as plt"
   ]
  },
  {
   "cell_type": "code",
   "execution_count": null,
   "metadata": {},
   "outputs": [],
   "source": [
    "# Load the digits dataset\n",
    "digits = load_digits()\n",
    "X = digits.images.reshape((len(digits.images), -1))\n",
    "y = digits.target"
   ]
  },
  {
   "cell_type": "code",
   "execution_count": 7,
   "metadata": {},
   "outputs": [
    {
     "data": {
      "text/plain": [
       "(1797, 64)"
      ]
     },
     "execution_count": 7,
     "metadata": {},
     "output_type": "execute_result"
    }
   ],
   "source": [
    "X.shape"
   ]
  },
  {
   "cell_type": "code",
   "execution_count": 18,
   "metadata": {},
   "outputs": [
    {
     "data": {
      "text/plain": [
       "<matplotlib.image.AxesImage at 0x7f0839260780>"
      ]
     },
     "execution_count": 18,
     "metadata": {},
     "output_type": "execute_result"
    },
    {
     "data": {
      "image/png": "[encoded data removed]",
      "text/plain": [
       "<Figure size 432x288 with 1 Axes>"
      ]
     },
     "metadata": {},
     "output_type": "display_data"
    }
   ],
   "source": [
    "plt.imshow(X[3, :].reshape((8,8)))"
   ]
  },
  {
   "cell_type": "code",
   "execution_count": 27,
   "metadata": {},
   "outputs": [],
   "source": [
    "# Create the RFE object and rank each pixel\n",
    "svc = SVC(kernel=\"linear\", C=1)\n",
    "rfe = RFE(estimator=svc, n_features_to_select=1, step=1)\n",
    "rfe.fit(X, y)\n",
    "ranking = rfe.ranking_.reshape(digits.images[0].shape)"
   ]
  },
  {
   "cell_type": "code",
   "execution_count": 22,
   "metadata": {},
   "outputs": [
    {
     "data": {
      "text/plain": [
       "array([64, 50, 31, 23, 10, 17, 34, 51, 57, 37, 30, 43, 14, 32, 44, 52, 54,\n",
       "       41, 19, 15, 28,  8, 39, 53, 55, 45,  9, 18, 20, 38,  1, 59, 63, 42,\n",
       "       25, 35, 29, 16,  2, 62, 61, 40,  5, 11, 13,  6,  4, 58, 56, 47, 26,\n",
       "       36, 24,  3, 22, 48, 60, 49,  7, 27, 33, 21, 12, 46])"
      ]
     },
     "execution_count": 22,
     "metadata": {},
     "output_type": "execute_result"
    }
   ],
   "source": [
    "rfe.ranking_"
   ]
  },
  {
   "cell_type": "code",
   "execution_count": 5,
   "metadata": {},
   "outputs": [
    {
     "name": "stdout",
     "output_type": "stream",
     "text": [
      "Automatically created module for IPython interactive environment\n"
     ]
    },
    {
     "data": {
      "image/png": "[encoded data removed]",
      "text/plain": [
       "<Figure size 288x288 with 2 Axes>"
      ]
     },
     "metadata": {},
     "output_type": "display_data"
    }
   ],
   "source": [
    "# Plot pixel ranking\n",
    "plt.matshow(ranking, cmap=plt.cm.Blues)\n",
    "plt.colorbar()\n",
    "plt.title(\"Ranking of pixels with RFE\")\n",
    "plt.show()"
   ]
  },
  {
   "cell_type": "code",
   "execution_count": 39,
   "metadata": {},
   "outputs": [
    {
     "data": {
      "text/plain": [
       "[(0, 64),\n",
       " (1, 50),\n",
       " (2, 31),\n",
       " (3, 23),\n",
       " (4, 10),\n",
       " (5, 17),\n",
       " (6, 34),\n",
       " (7, 51),\n",
       " (8, 57),\n",
       " (9, 37),\n",
       " (10, 30),\n",
       " (11, 43),\n",
       " (12, 14),\n",
       " (13, 32),\n",
       " (14, 44),\n",
       " (15, 52),\n",
       " (16, 54),\n",
       " (17, 41),\n",
       " (18, 19),\n",
       " (19, 15),\n",
       " (20, 28),\n",
       " (21, 8),\n",
       " (22, 39),\n",
       " (23, 53),\n",
       " (24, 55),\n",
       " (25, 45),\n",
       " (26, 9),\n",
       " (27, 18),\n",
       " (28, 20),\n",
       " (29, 38),\n",
       " (30, 1),\n",
       " (31, 59),\n",
       " (32, 63),\n",
       " (33, 42),\n",
       " (34, 25),\n",
       " (35, 35),\n",
       " (36, 29),\n",
       " (37, 16),\n",
       " (38, 2),\n",
       " (39, 62),\n",
       " (40, 61),\n",
       " (41, 40),\n",
       " (42, 5),\n",
       " (43, 11),\n",
       " (44, 13),\n",
       " (45, 6),\n",
       " (46, 4),\n",
       " (47, 58),\n",
       " (48, 56),\n",
       " (49, 47),\n",
       " (50, 26),\n",
       " (51, 36),\n",
       " (52, 24),\n",
       " (53, 3),\n",
       " (54, 22),\n",
       " (55, 48),\n",
       " (56, 60),\n",
       " (57, 49),\n",
       " (58, 7),\n",
       " (59, 27),\n",
       " (60, 33),\n",
       " (61, 21),\n",
       " (62, 12),\n",
       " (63, 46)]"
      ]
     },
     "execution_count": 39,
     "metadata": {},
     "output_type": "execute_result"
    }
   ],
   "source": [
    "[i for i in zip(range(64), rfe.ranking_)]"
   ]
  }
 ],
 "metadata": {
  "kernelspec": {
   "display_name": "Python 3",
   "language": "python",
   "name": "python3"
  },
  "language_info": {
   "codemirror_mode": {
    "name": "ipython",
    "version": 3
   },
   "file_extension": ".py",
   "mimetype": "text/x-python",
   "name": "python",
   "nbconvert_exporter": "python",
   "pygments_lexer": "ipython3",
   "version": "3.7.0"
  }
 },
 "nbformat": 4,
 "nbformat_minor": 1
}
