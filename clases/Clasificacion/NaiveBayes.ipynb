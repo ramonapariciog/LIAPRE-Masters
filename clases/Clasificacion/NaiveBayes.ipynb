{
 "cells": [
  {
   "cell_type": "markdown",
   "metadata": {},
   "source": [
    "# Clasificador Naive Bayes"
   ]
  },
  {
   "cell_type": "code",
   "execution_count": 3,
   "metadata": {},
   "outputs": [],
   "source": [
    "import numpy as np\n",
    "from sklearn.datasets import load_iris"
   ]
  },
  {
   "cell_type": "code",
   "execution_count": 6,
   "metadata": {},
   "outputs": [],
   "source": [
    "data = load_iris()\n",
    "X = data[\"data\"]\n",
    "y = data[\"target\"]"
   ]
  },
  {
   "cell_type": "code",
   "execution_count": 19,
   "metadata": {},
   "outputs": [],
   "source": [
    "Xp = [3.8, 1.86, 3.1, 1.4 ]"
   ]
  },
  {
   "cell_type": "code",
   "execution_count": 12,
   "metadata": {},
   "outputs": [],
   "source": [
    "c0 = X[y == 0, :]\n",
    "c1 = X[y == 1, :]\n",
    "c2 = X[y == 2, :]"
   ]
  },
  {
   "cell_type": "code",
   "execution_count": 17,
   "metadata": {},
   "outputs": [],
   "source": [
    "mediac0 = c0.mean(axis=0)\n",
    "stdc0 = c0.std(axis=0)\n",
    "mediac1 = c1.mean(axis=0)\n",
    "stdc1 = c1.std(axis=0)\n",
    "mediac2 = c2.mean(axis=0)\n",
    "stdc2 = c2.std(axis=0)"
   ]
  },
  {
   "cell_type": "code",
   "execution_count": 22,
   "metadata": {},
   "outputs": [
    {
     "name": "stdout",
     "output_type": "stream",
     "text": [
      "4.369582577932055e-05 0.0001676337524196608 6.114184543624497e-05\n"
     ]
    }
   ],
   "source": [
    "peltc0 = 1\n",
    "peltc1 = 1\n",
    "peltc2 = 1\n",
    "for i, el in enumerate(Xp): \n",
    "    pelc0 = (1 / np.sqrt(2*np.pi) * stdc0[i]) * np.exp(-((el - mediac0[i])**2)/2*(stdc0[i]**2))\n",
    "    pelc1 = (1 / np.sqrt(2*np.pi) * stdc1[i]) * np.exp(-((el - mediac1[i])**2)/2*(stdc1[i]**2))\n",
    "    pelc2 = (1 / np.sqrt(2*np.pi) * stdc2[i]) * np.exp(-((el - mediac2[i])**2)/2*(stdc2[i]**2))\n",
    "    peltc0*=pelc0\n",
    "    peltc1*=pelc1\n",
    "    peltc2*=pelc2\n",
    "print(peltc0, peltc1, peltc2)"
   ]
  }
 ],
 "metadata": {
  "kernelspec": {
   "display_name": "Python (DL)",
   "language": "python",
   "name": "dlearn"
  },
  "language_info": {
   "codemirror_mode": {
    "name": "ipython",
    "version": 3
   },
   "file_extension": ".py",
   "mimetype": "text/x-python",
   "name": "python",
   "nbconvert_exporter": "python",
   "pygments_lexer": "ipython3",
   "version": "3.7.3"
  }
 },
 "nbformat": 4,
 "nbformat_minor": 2
}
