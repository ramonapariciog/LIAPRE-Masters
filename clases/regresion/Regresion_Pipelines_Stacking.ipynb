{
 "cells": [
  {
   "cell_type": "code",
   "execution_count": 1,
   "metadata": {},
   "outputs": [],
   "source": [
    "import pandas as pd"
   ]
  },
  {
   "cell_type": "code",
   "execution_count": 2,
   "metadata": {},
   "outputs": [],
   "source": [
    "import numpy as np\n",
    "import matplotlib.pyplot as plt"
   ]
  },
  {
   "cell_type": "code",
   "execution_count": 4,
   "metadata": {},
   "outputs": [],
   "source": [
    "tabla_y = pd.read_csv(\"../Data/ic50.csv\", header=None, index_col=None)\n",
    "features = pd.read_csv(\"../Data/genomic_features.csv\", header=0, index_col=None)"
   ]
  },
  {
   "cell_type": "code",
   "execution_count": 10,
   "metadata": {},
   "outputs": [],
   "source": [
    "from sklearn.utils import shuffle"
   ]
  },
  {
   "cell_type": "code",
   "execution_count": 9,
   "metadata": {},
   "outputs": [],
   "source": [
    "from sklearn.datasets import make_regression"
   ]
  },
  {
   "cell_type": "code",
   "execution_count": 30,
   "metadata": {},
   "outputs": [],
   "source": [
    "X, y = make_regression(n_samples=10000, n_features=300, n_informative=50, n_targets=1,\\\n",
    "                       bias=0.0, effective_rank=None, tail_strength=0.5, noise=0.5)"
   ]
  },
  {
   "cell_type": "code",
   "execution_count": 32,
   "metadata": {},
   "outputs": [],
   "source": [
    "y_bar, x_bar = np.histogram(y, bins=1000)"
   ]
  },
  {
   "cell_type": "code",
   "execution_count": 33,
   "metadata": {},
   "outputs": [
    {
     "data": {
      "image/png": "[encoded data removed]",
      "text/plain": [
       "<Figure size 432x288 with 1 Axes>"
      ]
     },
     "metadata": {
      "needs_background": "light"
     },
     "output_type": "display_data"
    }
   ],
   "source": [
    "plt.bar(x_bar[1:], y_bar, 0.5)\n",
    "plt.show()"
   ]
  },
  {
   "cell_type": "code",
   "execution_count": 99,
   "metadata": {},
   "outputs": [],
   "source": [
    "mask_nan = np.random.randint(0, 2, size=(10000, 300), dtype=bool)\n",
    "X[mask_nan] = np.nan"
   ]
  },
  {
   "cell_type": "code",
   "execution_count": 100,
   "metadata": {},
   "outputs": [],
   "source": [
    "df = pd.DataFrame(data=X, columns=[f\"Column {i}\" for i in range(300)])"
   ]
  },
  {
   "cell_type": "code",
   "execution_count": 101,
   "metadata": {},
   "outputs": [],
   "source": [
    "mask = df.isna().values"
   ]
  },
  {
   "cell_type": "code",
   "execution_count": 106,
   "metadata": {},
   "outputs": [],
   "source": [
    "from sklearn.impute import SimpleImputer"
   ]
  },
  {
   "cell_type": "code",
   "execution_count": 113,
   "metadata": {},
   "outputs": [],
   "source": [
    "simp = SimpleImputer(strategy='most_frequent')"
   ]
  },
  {
   "cell_type": "code",
   "execution_count": 114,
   "metadata": {},
   "outputs": [],
   "source": [
    "df_filled = simp.fit_transform(df)"
   ]
  },
  {
   "cell_type": "code",
   "execution_count": 117,
   "metadata": {},
   "outputs": [
    {
     "data": {
      "text/html": [
       "<div>\n",
       "<style scoped>\n",
       "    .dataframe tbody tr th:only-of-type {\n",
       "        vertical-align: middle;\n",
       "    }\n",
       "\n",
       "    .dataframe tbody tr th {\n",
       "        vertical-align: top;\n",
       "    }\n",
       "\n",
       "    .dataframe thead th {\n",
       "        text-align: right;\n",
       "    }\n",
       "</style>\n",
       "<table border=\"1\" class=\"dataframe\">\n",
       "  <thead>\n",
       "    <tr style=\"text-align: right;\">\n",
       "      <th></th>\n",
       "      <th>Column 0</th>\n",
       "      <th>Column 1</th>\n",
       "      <th>Column 2</th>\n",
       "      <th>Column 3</th>\n",
       "      <th>Column 4</th>\n",
       "      <th>Column 5</th>\n",
       "      <th>Column 6</th>\n",
       "      <th>Column 7</th>\n",
       "      <th>Column 8</th>\n",
       "      <th>Column 9</th>\n",
       "      <th>...</th>\n",
       "      <th>Column 290</th>\n",
       "      <th>Column 291</th>\n",
       "      <th>Column 292</th>\n",
       "      <th>Column 293</th>\n",
       "      <th>Column 294</th>\n",
       "      <th>Column 295</th>\n",
       "      <th>Column 296</th>\n",
       "      <th>Column 297</th>\n",
       "      <th>Column 298</th>\n",
       "      <th>Column 299</th>\n",
       "    </tr>\n",
       "  </thead>\n",
       "  <tbody>\n",
       "    <tr>\n",
       "      <th>count</th>\n",
       "      <td>10000.000000</td>\n",
       "      <td>10000.000000</td>\n",
       "      <td>10000.000000</td>\n",
       "      <td>10000.000000</td>\n",
       "      <td>10000.000000</td>\n",
       "      <td>10000.000000</td>\n",
       "      <td>10000.000000</td>\n",
       "      <td>10000.000000</td>\n",
       "      <td>10000.000000</td>\n",
       "      <td>10000.000000</td>\n",
       "      <td>...</td>\n",
       "      <td>10000.000000</td>\n",
       "      <td>10000.000000</td>\n",
       "      <td>10000.000000</td>\n",
       "      <td>10000.000000</td>\n",
       "      <td>10000.000000</td>\n",
       "      <td>10000.000000</td>\n",
       "      <td>10000.000000</td>\n",
       "      <td>10000.000000</td>\n",
       "      <td>10000.000000</td>\n",
       "      <td>10000.000000</td>\n",
       "    </tr>\n",
       "    <tr>\n",
       "      <th>mean</th>\n",
       "      <td>-1.843666</td>\n",
       "      <td>-1.848486</td>\n",
       "      <td>-1.634977</td>\n",
       "      <td>-1.745619</td>\n",
       "      <td>-1.590571</td>\n",
       "      <td>-1.743344</td>\n",
       "      <td>-1.759625</td>\n",
       "      <td>-1.799333</td>\n",
       "      <td>-1.801645</td>\n",
       "      <td>-1.862249</td>\n",
       "      <td>...</td>\n",
       "      <td>-2.060792</td>\n",
       "      <td>-1.651222</td>\n",
       "      <td>-1.719640</td>\n",
       "      <td>-1.711673</td>\n",
       "      <td>-1.848759</td>\n",
       "      <td>-1.831077</td>\n",
       "      <td>-1.889086</td>\n",
       "      <td>-1.632431</td>\n",
       "      <td>-1.899281</td>\n",
       "      <td>-1.905459</td>\n",
       "    </tr>\n",
       "    <tr>\n",
       "      <th>std</th>\n",
       "      <td>1.974317</td>\n",
       "      <td>1.962121</td>\n",
       "      <td>1.783846</td>\n",
       "      <td>1.866053</td>\n",
       "      <td>1.729755</td>\n",
       "      <td>1.877222</td>\n",
       "      <td>1.908723</td>\n",
       "      <td>1.955962</td>\n",
       "      <td>1.941062</td>\n",
       "      <td>1.990522</td>\n",
       "      <td>...</td>\n",
       "      <td>2.154792</td>\n",
       "      <td>1.799692</td>\n",
       "      <td>1.833556</td>\n",
       "      <td>1.889904</td>\n",
       "      <td>1.958681</td>\n",
       "      <td>1.936987</td>\n",
       "      <td>2.022001</td>\n",
       "      <td>1.790249</td>\n",
       "      <td>2.014263</td>\n",
       "      <td>1.997839</td>\n",
       "    </tr>\n",
       "    <tr>\n",
       "      <th>min</th>\n",
       "      <td>-3.673979</td>\n",
       "      <td>-3.674409</td>\n",
       "      <td>-3.252844</td>\n",
       "      <td>-3.455337</td>\n",
       "      <td>-3.167385</td>\n",
       "      <td>-3.470878</td>\n",
       "      <td>-3.534166</td>\n",
       "      <td>-3.613259</td>\n",
       "      <td>-3.596686</td>\n",
       "      <td>-3.706354</td>\n",
       "      <td>...</td>\n",
       "      <td>-4.084391</td>\n",
       "      <td>-3.291488</td>\n",
       "      <td>-3.408057</td>\n",
       "      <td>-3.484580</td>\n",
       "      <td>-3.673112</td>\n",
       "      <td>-3.604975</td>\n",
       "      <td>-3.775278</td>\n",
       "      <td>-3.283147</td>\n",
       "      <td>-3.774320</td>\n",
       "      <td>-3.741582</td>\n",
       "    </tr>\n",
       "    <tr>\n",
       "      <th>25%</th>\n",
       "      <td>-3.673979</td>\n",
       "      <td>-3.674409</td>\n",
       "      <td>-3.252844</td>\n",
       "      <td>-3.455337</td>\n",
       "      <td>-3.167385</td>\n",
       "      <td>-3.470878</td>\n",
       "      <td>-3.534166</td>\n",
       "      <td>-3.613259</td>\n",
       "      <td>-3.596686</td>\n",
       "      <td>-3.706354</td>\n",
       "      <td>...</td>\n",
       "      <td>-4.084391</td>\n",
       "      <td>-3.291488</td>\n",
       "      <td>-3.408057</td>\n",
       "      <td>-3.484580</td>\n",
       "      <td>-3.673112</td>\n",
       "      <td>-3.604975</td>\n",
       "      <td>-3.775278</td>\n",
       "      <td>-3.283147</td>\n",
       "      <td>-3.774320</td>\n",
       "      <td>-3.741582</td>\n",
       "    </tr>\n",
       "    <tr>\n",
       "      <th>50%</th>\n",
       "      <td>-3.673979</td>\n",
       "      <td>-3.674409</td>\n",
       "      <td>-3.252844</td>\n",
       "      <td>-3.455337</td>\n",
       "      <td>-3.167385</td>\n",
       "      <td>-3.470878</td>\n",
       "      <td>-2.732774</td>\n",
       "      <td>-3.613259</td>\n",
       "      <td>-3.596686</td>\n",
       "      <td>-3.706354</td>\n",
       "      <td>...</td>\n",
       "      <td>-4.084391</td>\n",
       "      <td>-3.291488</td>\n",
       "      <td>-3.408057</td>\n",
       "      <td>-2.280643</td>\n",
       "      <td>-3.234464</td>\n",
       "      <td>-3.604975</td>\n",
       "      <td>-3.775278</td>\n",
       "      <td>-2.590287</td>\n",
       "      <td>-3.774320</td>\n",
       "      <td>-3.741582</td>\n",
       "    </tr>\n",
       "    <tr>\n",
       "      <th>75%</th>\n",
       "      <td>0.016098</td>\n",
       "      <td>-0.024212</td>\n",
       "      <td>-0.013171</td>\n",
       "      <td>-0.010312</td>\n",
       "      <td>-0.003951</td>\n",
       "      <td>0.019968</td>\n",
       "      <td>0.011997</td>\n",
       "      <td>0.033163</td>\n",
       "      <td>0.031774</td>\n",
       "      <td>-0.001388</td>\n",
       "      <td>...</td>\n",
       "      <td>-0.025413</td>\n",
       "      <td>0.011892</td>\n",
       "      <td>-0.022640</td>\n",
       "      <td>0.036909</td>\n",
       "      <td>-0.020311</td>\n",
       "      <td>0.005242</td>\n",
       "      <td>0.003598</td>\n",
       "      <td>0.012818</td>\n",
       "      <td>0.022193</td>\n",
       "      <td>-0.015973</td>\n",
       "    </tr>\n",
       "    <tr>\n",
       "      <th>max</th>\n",
       "      <td>3.988037</td>\n",
       "      <td>3.701152</td>\n",
       "      <td>3.544269</td>\n",
       "      <td>3.479150</td>\n",
       "      <td>3.348117</td>\n",
       "      <td>3.351244</td>\n",
       "      <td>3.545009</td>\n",
       "      <td>3.705980</td>\n",
       "      <td>3.319700</td>\n",
       "      <td>4.063464</td>\n",
       "      <td>...</td>\n",
       "      <td>3.376743</td>\n",
       "      <td>3.684643</td>\n",
       "      <td>3.457987</td>\n",
       "      <td>3.622974</td>\n",
       "      <td>3.492002</td>\n",
       "      <td>3.945636</td>\n",
       "      <td>3.207805</td>\n",
       "      <td>4.233394</td>\n",
       "      <td>3.771176</td>\n",
       "      <td>3.548124</td>\n",
       "    </tr>\n",
       "  </tbody>\n",
       "</table>\n",
       "<p>8 rows × 300 columns</p>\n",
       "</div>"
      ],
      "text/plain": [
       "           Column 0      Column 1      Column 2      Column 3      Column 4  \\\n",
       "count  10000.000000  10000.000000  10000.000000  10000.000000  10000.000000   \n",
       "mean      -1.843666     -1.848486     -1.634977     -1.745619     -1.590571   \n",
       "std        1.974317      1.962121      1.783846      1.866053      1.729755   \n",
       "min       -3.673979     -3.674409     -3.252844     -3.455337     -3.167385   \n",
       "25%       -3.673979     -3.674409     -3.252844     -3.455337     -3.167385   \n",
       "50%       -3.673979     -3.674409     -3.252844     -3.455337     -3.167385   \n",
       "75%        0.016098     -0.024212     -0.013171     -0.010312     -0.003951   \n",
       "max        3.988037      3.701152      3.544269      3.479150      3.348117   \n",
       "\n",
       "           Column 5      Column 6      Column 7      Column 8      Column 9  \\\n",
       "count  10000.000000  10000.000000  10000.000000  10000.000000  10000.000000   \n",
       "mean      -1.743344     -1.759625     -1.799333     -1.801645     -1.862249   \n",
       "std        1.877222      1.908723      1.955962      1.941062      1.990522   \n",
       "min       -3.470878     -3.534166     -3.613259     -3.596686     -3.706354   \n",
       "25%       -3.470878     -3.534166     -3.613259     -3.596686     -3.706354   \n",
       "50%       -3.470878     -2.732774     -3.613259     -3.596686     -3.706354   \n",
       "75%        0.019968      0.011997      0.033163      0.031774     -0.001388   \n",
       "max        3.351244      3.545009      3.705980      3.319700      4.063464   \n",
       "\n",
       "       ...    Column 290    Column 291    Column 292    Column 293  \\\n",
       "count  ...  10000.000000  10000.000000  10000.000000  10000.000000   \n",
       "mean   ...     -2.060792     -1.651222     -1.719640     -1.711673   \n",
       "std    ...      2.154792      1.799692      1.833556      1.889904   \n",
       "min    ...     -4.084391     -3.291488     -3.408057     -3.484580   \n",
       "25%    ...     -4.084391     -3.291488     -3.408057     -3.484580   \n",
       "50%    ...     -4.084391     -3.291488     -3.408057     -2.280643   \n",
       "75%    ...     -0.025413      0.011892     -0.022640      0.036909   \n",
       "max    ...      3.376743      3.684643      3.457987      3.622974   \n",
       "\n",
       "         Column 294    Column 295    Column 296    Column 297    Column 298  \\\n",
       "count  10000.000000  10000.000000  10000.000000  10000.000000  10000.000000   \n",
       "mean      -1.848759     -1.831077     -1.889086     -1.632431     -1.899281   \n",
       "std        1.958681      1.936987      2.022001      1.790249      2.014263   \n",
       "min       -3.673112     -3.604975     -3.775278     -3.283147     -3.774320   \n",
       "25%       -3.673112     -3.604975     -3.775278     -3.283147     -3.774320   \n",
       "50%       -3.234464     -3.604975     -3.775278     -2.590287     -3.774320   \n",
       "75%       -0.020311      0.005242      0.003598      0.012818      0.022193   \n",
       "max        3.492002      3.945636      3.207805      4.233394      3.771176   \n",
       "\n",
       "         Column 299  \n",
       "count  10000.000000  \n",
       "mean      -1.905459  \n",
       "std        1.997839  \n",
       "min       -3.741582  \n",
       "25%       -3.741582  \n",
       "50%       -3.741582  \n",
       "75%       -0.015973  \n",
       "max        3.548124  \n",
       "\n",
       "[8 rows x 300 columns]"
      ]
     },
     "execution_count": 117,
     "metadata": {},
     "output_type": "execute_result"
    }
   ],
   "source": [
    "df_filled = pd.DataFrame(data=df_filled, columns=[f\"Column {i}\" for i in range(300)])\n",
    "df_filled.describe()"
   ]
  },
  {
   "cell_type": "code",
   "execution_count": 194,
   "metadata": {},
   "outputs": [],
   "source": [
    "from sklearn.preprocessing import StandardScaler\n",
    "from sklearn.pipeline import make_pipeline, Pipeline\n",
    "from sklearn.decomposition import PCA\n",
    "from sklearn.linear_model import LassoCV, Lasso, Ridge\n",
    "from sklearn.model_selection import cross_val_score, KFold, GridSearchCV"
   ]
  },
  {
   "cell_type": "code",
   "execution_count": 132,
   "metadata": {},
   "outputs": [],
   "source": [
    "X_transformed = model.transform(df)"
   ]
  },
  {
   "cell_type": "code",
   "execution_count": 141,
   "metadata": {},
   "outputs": [
    {
     "data": {
      "text/plain": [
       "array([ -17.89568355,   13.96477811,   13.50203221,  132.845165  ,\n",
       "       -248.02997927, -215.88790118,  -56.47779041,  -97.14031186,\n",
       "       -120.49804476,   63.63937073])"
      ]
     },
     "execution_count": 141,
     "metadata": {},
     "output_type": "execute_result"
    }
   ],
   "source": [
    "model.predict(df.values[-10:, :])"
   ]
  },
  {
   "cell_type": "markdown",
   "metadata": {},
   "source": [
    "# NOTA: No se separo el banco de datos en entrenamiento y prueba"
   ]
  },
  {
   "cell_type": "code",
   "execution_count": 142,
   "metadata": {},
   "outputs": [
    {
     "data": {
      "text/plain": [
       "0.051515616733194824"
      ]
     },
     "execution_count": 142,
     "metadata": {},
     "output_type": "execute_result"
    }
   ],
   "source": [
    "model.score(df.values[-200:, :], y[-200:])"
   ]
  },
  {
   "cell_type": "markdown",
   "metadata": {},
   "source": [
    "## Evaluando modelo con validacion cruzada de k=5"
   ]
  },
  {
   "cell_type": "code",
   "execution_count": 187,
   "metadata": {},
   "outputs": [],
   "source": [
    "scores = cross_val_score(estimator=model, X=df, y=y, cv=KFold(n_splits=10))"
   ]
  },
  {
   "cell_type": "code",
   "execution_count": 189,
   "metadata": {},
   "outputs": [
    {
     "data": {
      "text/plain": [
       "0.4599375968421534"
      ]
     },
     "execution_count": 189,
     "metadata": {},
     "output_type": "execute_result"
    }
   ],
   "source": [
    "scores.mean()"
   ]
  },
  {
   "cell_type": "code",
   "execution_count": 193,
   "metadata": {},
   "outputs": [],
   "source": [
    "mean_score = []\n",
    "alphas = np.logspace(-2, 3, 20)\n",
    "for alpha in alphas:\n",
    "    model = Pipeline([(\"Imputer\", SimpleImputer(strategy='mean')),#'most_frequent')),\n",
    "                      (\"Scaling\", StandardScaler()),\n",
    "                      (\"DimensionRed\", PCA(0.98)),\n",
    "                      (\"Regression\", Ridge(alpha=alpha))])\n",
    "    scores = cross_val_score(estimator=model, X=df, y=y, cv=KFold(n_splits=10), n_jobs=-1)\n",
    "    mean_score.append(scores.mean())"
   ]
  },
  {
   "cell_type": "code",
   "execution_count": 196,
   "metadata": {},
   "outputs": [
    {
     "data": {
      "text/plain": [
       "[<matplotlib.lines.Line2D at 0x7fdec42b8b70>]"
      ]
     },
     "execution_count": 196,
     "metadata": {},
     "output_type": "execute_result"
    },
    {
     "data": {
      "image/png": "[encoded data removed]",
      "text/plain": [
       "<Figure size 432x288 with 1 Axes>"
      ]
     },
     "metadata": {
      "needs_background": "light"
     },
     "output_type": "display_data"
    }
   ],
   "source": [
    "plt.semilogx(alphas, mean_score, 'ro-')"
   ]
  },
  {
   "cell_type": "markdown",
   "metadata": {},
   "source": [
    "# Una vez entrenado el modelo, lo guardamos para deploy"
   ]
  },
  {
   "cell_type": "code",
   "execution_count": 160,
   "metadata": {},
   "outputs": [
    {
     "data": {
      "text/plain": [
       "Pipeline(memory=None,\n",
       "         steps=[('Imputer',\n",
       "                 SimpleImputer(add_indicator=False, copy=True, fill_value=None,\n",
       "                               missing_values=nan, strategy='mean',\n",
       "                               verbose=0)),\n",
       "                ('Scaling',\n",
       "                 StandardScaler(copy=True, with_mean=True, with_std=True)),\n",
       "                ('DimensionRed',\n",
       "                 PCA(copy=True, iterated_power='auto', n_components=0.95,\n",
       "                     random_state=None, svd_solver='auto', tol=0.0,\n",
       "                     whiten=False)),\n",
       "                ('Regression',\n",
       "                 Ridge(alpha=0.1, copy_X=True, fit_intercept=True,\n",
       "                       max_iter=None, normalize=False, random_state=None,\n",
       "                       solver='auto', tol=0.001))],\n",
       "         verbose=False)"
      ]
     },
     "execution_count": 160,
     "metadata": {},
     "output_type": "execute_result"
    }
   ],
   "source": [
    "model.fit(df, y)"
   ]
  },
  {
   "cell_type": "code",
   "execution_count": 178,
   "metadata": {},
   "outputs": [],
   "source": [
    "import pickle"
   ]
  },
  {
   "cell_type": "code",
   "execution_count": null,
   "metadata": {},
   "outputs": [],
   "source": [
    "pickle.dump(model, open(\"modelo_regresion.pkl\", \"wb\"))"
   ]
  },
  {
   "cell_type": "code",
   "execution_count": 182,
   "metadata": {},
   "outputs": [],
   "source": [
    "modeloLeido = pickle.load(open(\"modelo_regresion.pkl\", \"rb\"))"
   ]
  },
  {
   "cell_type": "markdown",
   "metadata": {},
   "source": [
    "# Mas info "
   ]
  },
  {
   "cell_type": "markdown",
   "metadata": {},
   "source": [
    "https://scikit-learn.org/stable/auto_examples/ensemble/plot_stack_predictors.html#sphx-glr-auto-examples-ensemble-plot-stack-predictors-py"
   ]
  }
 ],
 "metadata": {
  "kernelspec": {
   "display_name": "Python (DL)",
   "language": "python",
   "name": "dlearn"
  },
  "language_info": {
   "codemirror_mode": {
    "name": "ipython",
    "version": 3
   },
   "file_extension": ".py",
   "mimetype": "text/x-python",
   "name": "python",
   "nbconvert_exporter": "python",
   "pygments_lexer": "ipython3",
   "version": "3.6.7"
  }
 },
 "nbformat": 4,
 "nbformat_minor": 2
}
