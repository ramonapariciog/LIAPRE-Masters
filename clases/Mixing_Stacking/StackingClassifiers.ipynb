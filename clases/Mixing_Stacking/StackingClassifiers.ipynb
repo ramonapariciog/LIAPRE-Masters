{
 "cells": [
  {
   "cell_type": "code",
   "execution_count": 1,
   "metadata": {},
   "outputs": [],
   "source": [
    "import pandas as pd\n",
    "import matplotlib.pyplot as plt\n",
    "import numpy as np\n",
    "\n",
    "from sklearn.svm import SVC, LinearSVC\n",
    "from sklearn.discriminant_analysis import LinearDiscriminantAnalysis\n",
    "from sklearn.metrics import confusion_matrix, classification_report\n",
    "from sklearn.naive_bayes import GaussianNB\n",
    "from sklearn.datasets import load_wine\n",
    "from sklearn.feature_selection import SelectKBest, chi2, RFE\n",
    "from sklearn.pipeline import Pipeline\n",
    "from sklearn.preprocessing import LabelEncoder, StandardScaler\n",
    "from sklearn.model_selection import (cross_val_score, KFold, cross_validate,\n",
    "                                     train_test_split)\n",
    "from sklearn.ensemble import StackingClassifier"
   ]
  },
  {
   "cell_type": "code",
   "execution_count": 2,
   "metadata": {},
   "outputs": [],
   "source": [
    "data = load_wine()\n",
    "y = data.target\n",
    "X = data.data\n",
    "stc = StandardScaler()\n",
    "lenc = LabelEncoder()\n",
    "columns = data.feature_names\n",
    "df = pd.DataFrame(data=np.hstack(tup=(X, y.reshape(-1, 1))),\n",
    "                  columns=np.hstack(tup=(columns, [\"Class\"])))\n",
    "X_std = stc.fit_transform(df[columns])"
   ]
  },
  {
   "cell_type": "code",
   "execution_count": 3,
   "metadata": {},
   "outputs": [],
   "source": [
    "pipesvm = Pipeline([(\"stc\", stc), (\"selection\", RFE(LinearSVC())),\n",
    "                    (\"svm\", SVC(kernel=\"linear\"))])\n",
    "pipelda = Pipeline([(\"stc\", stc), (\"svm\", LinearDiscriminantAnalysis())])\n",
    "estimators = [(\"LDA\", pipelda), (\"SVM\", pipesvm)]\n",
    "# El utilizar clasificadores apilados tiene beneficios cuando se trata de\n",
    "# problemas multiclase, puesto que puede mejorar mucho el pronostico de clase\n",
    "# al explotar el poder predictivo del pronostico para ciertas clases\n",
    "stacking_classifier = StackingClassifier(estimators=estimators,\n",
    "                                         final_estimator=GaussianNB())"
   ]
  },
  {
   "cell_type": "code",
   "execution_count": 4,
   "metadata": {},
   "outputs": [
    {
     "name": "stdout",
     "output_type": "stream",
     "text": [
      "Stacking stimators\n",
      "[1.         0.88888889 0.97222222 0.91428571 1.        ]\n"
     ]
    }
   ],
   "source": [
    "print(\"Stacking stimators\")\n",
    "print(cross_val_score(X=df[columns], y=y, estimator=stacking_classifier,\n",
    "                      cv=KFold(5)))"
   ]
  },
  {
   "cell_type": "code",
   "execution_count": 5,
   "metadata": {},
   "outputs": [
    {
     "name": "stdout",
     "output_type": "stream",
     "text": [
      "Only SVM\n",
      "[0.97222222 0.86111111 0.91666667 0.91428571 1.        ]\n"
     ]
    }
   ],
   "source": [
    "print(\"Only SVM\")\n",
    "print(cross_val_score(X=df[columns], y=y, estimator=pipesvm, cv=KFold(5)))"
   ]
  },
  {
   "cell_type": "code",
   "execution_count": 6,
   "metadata": {},
   "outputs": [
    {
     "name": "stdout",
     "output_type": "stream",
     "text": [
      "Only LDA\n",
      "[0.94444444 0.88888889 0.94444444 0.94285714 1.        ]\n"
     ]
    }
   ],
   "source": [
    "print(\"Only LDA\")\n",
    "print(cross_val_score(X=df[columns], y=y, estimator=pipelda, cv=KFold(5)))"
   ]
  },
  {
   "cell_type": "code",
   "execution_count": 7,
   "metadata": {},
   "outputs": [
    {
     "name": "stdout",
     "output_type": "stream",
     "text": [
      "\n",
      "\n",
      "[[20  0  0]\n",
      " [ 0 24  0]\n",
      " [ 0  0 15]]\n",
      "\n",
      "\n",
      "              precision    recall  f1-score   support\n",
      "\n",
      "           0       1.00      1.00      1.00        20\n",
      "           1       1.00      1.00      1.00        24\n",
      "           2       1.00      1.00      1.00        15\n",
      "\n",
      "    accuracy                           1.00        59\n",
      "   macro avg       1.00      1.00      1.00        59\n",
      "weighted avg       1.00      1.00      1.00        59\n",
      "\n"
     ]
    }
   ],
   "source": [
    "X_train, X_test, y_train, y_test = train_test_split(df[columns], y,\\\n",
    "    test_size=0.33, random_state=42)\n",
    "stacking_classifier.fit(X_train, y_train)\n",
    "y_pred = stacking_classifier.predict(X_test)\n",
    "print(\"\\n\")\n",
    "print(confusion_matrix(y_test, y_pred))\n",
    "print(\"\\n\")\n",
    "print(classification_report(y_test, y_pred))"
   ]
  }
 ],
 "metadata": {
  "kernelspec": {
   "display_name": "Python (DL)",
   "language": "python",
   "name": "dlearn"
  },
  "language_info": {
   "codemirror_mode": {
    "name": "ipython",
    "version": 3
   },
   "file_extension": ".py",
   "mimetype": "text/x-python",
   "name": "python",
   "nbconvert_exporter": "python",
   "pygments_lexer": "ipython3",
   "version": "3.6.7"
  }
 },
 "nbformat": 4,
 "nbformat_minor": 2
}
