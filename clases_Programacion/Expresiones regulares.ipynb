{
 "cells": [
  {
   "cell_type": "markdown",
   "metadata": {},
   "source": [
    "# Expresiones regulares"
   ]
  },
  {
   "cell_type": "markdown",
   "metadata": {},
   "source": [
    "### primero importar la libreria para las expresiones regulares"
   ]
  },
  {
   "cell_type": "code",
   "execution_count": 2,
   "metadata": {},
   "outputs": [],
   "source": [
    "import re"
   ]
  },
  {
   "cell_type": "markdown",
   "metadata": {},
   "source": [
    "### ¿Para que usarlas?"
   ]
  },
  {
   "cell_type": "code",
   "execution_count": 1,
   "metadata": {},
   "outputs": [],
   "source": [
    "texto = \"\"\"El electroencefalograma (EEG) es un estudio de la\n",
    "función cerebral que mide la actividad electroquí-\n",
    "mica de la corteza cerebral. Esta actividad de las\n",
    "neuronas ocasiona potenciales postsinápticos ex-\n",
    "citadores e inhibidores, así como potenciales de\n",
    "acción que se trasmiten de neurona a neurona. El\n",
    "electroencefalógrafo capta estos cambios eléctri-\n",
    "cos por medio de receptores derivacionales o ca-\n",
    "nales monopolares o bipolares que se ubican en la\n",
    "superficie de la cabeza de forma previamente esta-\n",
    "blecida como sistema internacional 10/20. Es ne-\n",
    "cesario colocar entre 10 ó 24 canales como míni-\n",
    "mo en los niños.\n",
    "Es un estudio no invasivo, orientador para el\n",
    "diagnóstico de varias entidades, de gran ayuda in-\n",
    "clusive en urgencias neurológicas. 1,2 Clínicamen-\n",
    "te, el EEG puede mostrar: 1. La aparición de po-\n",
    "tenciales anormales, típicamente excesivos como\n",
    "en la epilepsia; y 2. Alteraciones bioeléctricas que\n",
    "ocasionan anormalidades en la distribución espa-\n",
    "cial de los ritmos eléctricos cerebrales, como en\n",
    "las encefalopatías o disfunciones focales.\n",
    "Desde hace varias décadas, los clínicos han bus-\n",
    "cado la relación de varias enfermedades neuroló-\n",
    "gicas no epilépticas con alteraciones electroence-\n",
    "falográficas como: parálisis cerebral, 3 retardo\n",
    "mental, 4 alteraciones vegetativas, 5 deficiencia vi-\n",
    "sual, 6 cefalea crónica, tanto en niños como ado-\n",
    "lescentes, 7,8 movimientos anormales, 9 enfermeda-\n",
    "des psiquiátricas 10,11 y, más recientemente,\n",
    "problemas de déficit de atención. 12,13 Sin embar-\n",
    "go, los resultados han sido muy poco específicos,\n",
    "ya que al comparar las alteraciones eléctricas ce-\n",
    "rebrales de estos pacientes con los grupos control,\n",
    "éstas también se observan en los EEG de personas\n",
    "sin ninguna alteración neurológica o psiquiátrica. 14 \"\"\""
   ]
  },
  {
   "cell_type": "markdown",
   "metadata": {},
   "source": [
    "# Buscar una palabra con las funciones convencionales de texto"
   ]
  },
  {
   "cell_type": "code",
   "execution_count": 11,
   "metadata": {},
   "outputs": [
    {
     "name": "stdout",
     "output_type": "stream",
     "text": [
      "Object `isalnum` not found.\n"
     ]
    }
   ],
   "source": [
    "\"sistema\".isalnum"
   ]
  },
  {
   "cell_type": "code",
   "execution_count": 29,
   "metadata": {},
   "outputs": [],
   "source": [
    "resultado1 = \" 00232120  fdfd fdfd \".strip(\" \").split(\" \")"
   ]
  },
  {
   "cell_type": "code",
   "execution_count": 30,
   "metadata": {},
   "outputs": [
    {
     "data": {
      "text/plain": [
       "'00232120--fdfd-fdfd'"
      ]
     },
     "execution_count": 30,
     "metadata": {},
     "output_type": "execute_result"
    }
   ],
   "source": [
    "'-'.join(resultado1)"
   ]
  },
  {
   "cell_type": "code",
   "execution_count": 4,
   "metadata": {},
   "outputs": [
    {
     "data": {
      "text/plain": [
       "['__add__',\n",
       " '__class__',\n",
       " '__contains__',\n",
       " '__delattr__',\n",
       " '__dir__',\n",
       " '__doc__',\n",
       " '__eq__',\n",
       " '__format__',\n",
       " '__ge__',\n",
       " '__getattribute__',\n",
       " '__getitem__',\n",
       " '__getnewargs__',\n",
       " '__gt__',\n",
       " '__hash__',\n",
       " '__init__',\n",
       " '__init_subclass__',\n",
       " '__iter__',\n",
       " '__le__',\n",
       " '__len__',\n",
       " '__lt__',\n",
       " '__mod__',\n",
       " '__mul__',\n",
       " '__ne__',\n",
       " '__new__',\n",
       " '__reduce__',\n",
       " '__reduce_ex__',\n",
       " '__repr__',\n",
       " '__rmod__',\n",
       " '__rmul__',\n",
       " '__setattr__',\n",
       " '__sizeof__',\n",
       " '__str__',\n",
       " '__subclasshook__',\n",
       " 'capitalize',\n",
       " 'casefold',\n",
       " 'center',\n",
       " 'count',\n",
       " 'encode',\n",
       " 'endswith',\n",
       " 'expandtabs',\n",
       " 'find',\n",
       " 'format',\n",
       " 'format_map',\n",
       " 'index',\n",
       " 'isalnum',\n",
       " 'isalpha',\n",
       " 'isascii',\n",
       " 'isdecimal',\n",
       " 'isdigit',\n",
       " 'isidentifier',\n",
       " 'islower',\n",
       " 'isnumeric',\n",
       " 'isprintable',\n",
       " 'isspace',\n",
       " 'istitle',\n",
       " 'isupper',\n",
       " 'join',\n",
       " 'ljust',\n",
       " 'lower',\n",
       " 'lstrip',\n",
       " 'maketrans',\n",
       " 'partition',\n",
       " 'replace',\n",
       " 'rfind',\n",
       " 'rindex',\n",
       " 'rjust',\n",
       " 'rpartition',\n",
       " 'rsplit',\n",
       " 'rstrip',\n",
       " 'split',\n",
       " 'splitlines',\n",
       " 'startswith',\n",
       " 'strip',\n",
       " 'swapcase',\n",
       " 'title',\n",
       " 'translate',\n",
       " 'upper',\n",
       " 'zfill']"
      ]
     },
     "execution_count": 4,
     "metadata": {},
     "output_type": "execute_result"
    }
   ],
   "source": [
    "dir(texto)"
   ]
  },
  {
   "cell_type": "code",
   "execution_count": 31,
   "metadata": {},
   "outputs": [
    {
     "data": {
      "text/plain": [
       "-1"
      ]
     },
     "execution_count": 31,
     "metadata": {},
     "output_type": "execute_result"
    }
   ],
   "source": [
    "texto.find(\"capital\")"
   ]
  },
  {
   "cell_type": "code",
   "execution_count": 32,
   "metadata": {},
   "outputs": [
    {
     "data": {
      "text/plain": [
       "58"
      ]
     },
     "execution_count": 32,
     "metadata": {},
     "output_type": "execute_result"
    }
   ],
   "source": [
    "texto.find(\"cerebral\")"
   ]
  },
  {
   "cell_type": "code",
   "execution_count": 46,
   "metadata": {},
   "outputs": [
    {
     "data": {
      "text/plain": [
       "58"
      ]
     },
     "execution_count": 46,
     "metadata": {},
     "output_type": "execute_result"
    }
   ],
   "source": [
    "texto.find(\"cerebral\")"
   ]
  },
  {
   "cell_type": "code",
   "execution_count": 47,
   "metadata": {},
   "outputs": [
    {
     "data": {
      "text/plain": [
       "'cerebral'"
      ]
     },
     "execution_count": 47,
     "metadata": {},
     "output_type": "execute_result"
    }
   ],
   "source": [
    "pos = texto.find(\"cerebral\")\n",
    "texto[pos: pos + len(\"cerebral\")]"
   ]
  },
  {
   "cell_type": "markdown",
   "metadata": {},
   "source": [
    "## ¡Sólo busca y devuelve la primer coincidencia!"
   ]
  },
  {
   "cell_type": "markdown",
   "metadata": {},
   "source": [
    "Tambien se pueden usar métodos convencionales como un for, aunque eso quita recursos de computo y consume tiempo de programación"
   ]
  },
  {
   "cell_type": "markdown",
   "metadata": {},
   "source": [
    "### Usando Expresiones regulares :)"
   ]
  },
  {
   "cell_type": "markdown",
   "metadata": {},
   "source": [
    "### funciones disponibles para usar de la libreria"
   ]
  },
  {
   "cell_type": "code",
   "execution_count": 16,
   "metadata": {},
   "outputs": [
    {
     "name": "stdout",
     "output_type": "stream",
     "text": [
      "_compile\n",
      "_expand\n",
      "_pickle\n",
      "_subx\n",
      "compile\n",
      "escape\n",
      "findall\n",
      "finditer\n",
      "fullmatch\n",
      "match\n",
      "purge\n",
      "search\n",
      "split\n",
      "sub\n",
      "subn\n",
      "template\n"
     ]
    }
   ],
   "source": [
    "elements = dir(re)\n",
    "for element in elements:\n",
    "    if type(getattr(re, element)).__name__ == 'function':\n",
    "        print(element)"
   ]
  },
  {
   "cell_type": "markdown",
   "metadata": {},
   "source": [
    "## Funciones más básicas"
   ]
  },
  {
   "cell_type": "markdown",
   "metadata": {},
   "source": [
    "- match\n",
    "- findall\n",
    "- finditer\n",
    "- sub"
   ]
  },
  {
   "cell_type": "code",
   "execution_count": 63,
   "metadata": {},
   "outputs": [
    {
     "data": {
      "text/plain": [
       "['. Esta ', '. La ']"
      ]
     },
     "execution_count": 63,
     "metadata": {},
     "output_type": "execute_result"
    }
   ],
   "source": [
    "re.findall(string=texto, pattern=r\"\\.\\ .*a\\ \")"
   ]
  },
  {
   "cell_type": "markdown",
   "metadata": {},
   "source": [
    "## Caracteres especiales"
   ]
  },
  {
   "cell_type": "markdown",
   "metadata": {},
   "source": [
    "# .   +   *   ?   ^   $   \\\\_   \\\\."
   ]
  },
  {
   "cell_type": "markdown",
   "metadata": {},
   "source": [
    "### Ejemplos"
   ]
  },
  {
   "cell_type": "code",
   "execution_count": 53,
   "metadata": {},
   "outputs": [
    {
     "name": "stdout",
     "output_type": "stream",
     "text": [
      "Manzana\n",
      "Naranja\n",
      "Garganta\n",
      "balanza\n"
     ]
    }
   ],
   "source": [
    "palabras = [\"Manzana\", \"Naranja\", \"Garganta\", \"balanza\", \"Sandía\", \"religión\", \"cañón\", \"jalón\", \"Ramón\", \"jamón\"]\n",
    "for w in palabras:\n",
    "    match = re.match(string=w,\n",
    "                     pattern=\".a..?a..?a\")\n",
    "    if match is not None:\n",
    "        print(match.group())"
   ]
  },
  {
   "cell_type": "code",
   "execution_count": 54,
   "metadata": {},
   "outputs": [
    {
     "name": "stdout",
     "output_type": "stream",
     "text": [
      "Manzana\n",
      "Naranja\n",
      "balanza\n",
      "Sandía\n",
      "ddsgrgbgmna\n"
     ]
    }
   ],
   "source": [
    "palabras = [\"Manzana\", \"Naranja\", \"balanza\", \"Sandía\", \"religión\", \"cañón\", \"jalón\", \"Ramón\", \"jamón\", \"ddsgrgbgmna\"]\n",
    "for w in palabras:\n",
    "    match = re.match(string=w,\n",
    "                     pattern=\".*a$\")\n",
    "    if match is not None:\n",
    "        print(match.group())"
   ]
  },
  {
   "cell_type": "code",
   "execution_count": 55,
   "metadata": {},
   "outputs": [
    {
     "name": "stdout",
     "output_type": "stream",
     "text": [
      "cañón\n",
      "jalón\n",
      "Ramón\n",
      "jamón\n"
     ]
    }
   ],
   "source": [
    "palabras = [\"Manzana\", \"Naranja\", \"balanza\", \"Sandía\", \"religión\", \"cañón\", \"jalón\", \"Ramón\", \"jamón\"]\n",
    "for w in palabras:\n",
    "    match = re.match(string=w,\n",
    "                     pattern=\".a.ón\")\n",
    "    if match is not None:\n",
    "        print(match.group())"
   ]
  },
  {
   "cell_type": "code",
   "execution_count": 58,
   "metadata": {},
   "outputs": [
    {
     "name": "stdout",
     "output_type": "stream",
     "text": [
      "Manzana\n",
      "Naranja\n",
      "balanza\n",
      "Sandía\n",
      "religión\n",
      "cañón\n",
      "jalón\n",
      "Ramón\n",
      "jamón\n"
     ]
    }
   ],
   "source": [
    "palabras = [\"Manzana\", \"Naranja\", \"balanza\", \"Sandía\", \"religión\", \"cañón\", \"jalón\", \"Ramón\", \"jamón\", \"preso\", \"primo\", \"choque\"]\n",
    "for w in palabras:\n",
    "    match = re.match(string=w,\n",
    "                     pattern=\".[aeiou].*\")\n",
    "    if match is not None:\n",
    "        print(match.group())"
   ]
  },
  {
   "cell_type": "code",
   "execution_count": 62,
   "metadata": {},
   "outputs": [
    {
     "name": "stdout",
     "output_type": "stream",
     "text": [
      "balón\n",
      "cañón\n",
      "jalón\n",
      "jamón\n"
     ]
    }
   ],
   "source": [
    "palabras = [\"Manzana\", \"Naranja\", \"balanza\", \"balón\", \"Sandía\", \"religión\", \"cañón\", \"jalón\", \"Ramón\", \"jamón\", \"preso\", \"primo\", \"choque\"]\n",
    "for w in palabras:\n",
    "    match = re.match(string=w,\n",
    "                     pattern=\"(ca|ja|pr|bal).*n$\")\n",
    "    if match is not None:\n",
    "        print(match.group())"
   ]
  },
  {
   "cell_type": "markdown",
   "metadata": {
    "scrolled": true
   },
   "source": [
    "### El punto coincide con cualquier carácter"
   ]
  },
  {
   "cell_type": "code",
   "execution_count": 91,
   "metadata": {
    "scrolled": true
   },
   "outputs": [
    {
     "name": "stdout",
     "output_type": "stream",
     "text": [
      "El resultado de los registros en FP1 fueron delta=0.02, alpha=0.34, beta=0.21, gamma=0.12, entropía=2.44e15\n"
     ]
    }
   ],
   "source": [
    "match = re.match(string=\"El resultado de los registros en FP1 fueron delta=0.02, alpha=0.34, beta=0.21, gamma=0.12, entropía=2.44e15\",\n",
    "                 pattern=\"^E.+\")\n",
    "if match is not None:\n",
    "    print(match.group())"
   ]
  },
  {
   "cell_type": "code",
   "execution_count": 94,
   "metadata": {
    "scrolled": true
   },
   "outputs": [
    {
     "name": "stdout",
     "output_type": "stream",
     "text": [
      "['delta=', 'alpha=', 'beta=', 'gamma=', 'entropía=']\n"
     ]
    }
   ],
   "source": [
    "match = re.findall(string=\"El resultado de los registros en FP1 fueron delta=0.02, alpha=0.34, beta=0.21, gamma=0.12, entropía=2.44e15\",\n",
    "                 #pattern=\"\\[0-9].[0-9]{2}(\\,|e[0-9]{2})\")\n",
    "                   #pattern=\"\\d\\.\\d{2}\")\n",
    "                   pattern=\"\\w+=\")\n",
    "print(match)\n",
    "#if match is not None:\n",
    "#    print(match.group())\n"
   ]
  },
  {
   "cell_type": "markdown",
   "metadata": {},
   "source": [
    "# operadores"
   ]
  },
  {
   "cell_type": "markdown",
   "metadata": {},
   "source": [
    "    - Para rangos            [ ]\n",
    "    - Para grupos            ( )\n",
    "    - Para repeticiones      { }"
   ]
  },
  {
   "cell_type": "markdown",
   "metadata": {},
   "source": [
    "## Mas rangos"
   ]
  },
  {
   "cell_type": "markdown",
   "metadata": {},
   "source": [
    "    - \\d     dígitos\n",
    "    - \\w     caracteres alfanuméricos\n",
    "    - \\D     No dígitos\n",
    "    - \\W     No caracteres alfanuméricos"
   ]
  },
  {
   "cell_type": "markdown",
   "metadata": {},
   "source": [
    "# Tarea\n",
    "### Completa el patrón\n",
    "Encontrar todas las expresiones númericas en la frase, debe cubrir la de notación científica:\n",
    "- El resultado de los registros en FP1 fueron delta=0.02, alpha=0.34, beta=0.21, gamma=0.12, entropía=2.44e15"
   ]
  },
  {
   "cell_type": "code",
   "execution_count": 21,
   "metadata": {},
   "outputs": [
    {
     "data": {
      "text/plain": [
       "[]"
      ]
     },
     "execution_count": 21,
     "metadata": {},
     "output_type": "execute_result"
    }
   ],
   "source": [
    "string = \"El resultado de los registros en FP1 fueron delta=0.02, alpha=0.34, beta=0.21, gamma=0.12, entropía=2.44e15\"\n",
    "re.findall(string=string, pattern=\"\\d+\\.<completa con tu idea>+\")"
   ]
  },
  {
   "cell_type": "markdown",
   "metadata": {},
   "source": [
    "### Quitar caracteres especiales"
   ]
  },
  {
   "cell_type": "code",
   "execution_count": 27,
   "metadata": {},
   "outputs": [
    {
     "name": "stdout",
     "output_type": "stream",
     "text": [
      "La  incorporación  de  la  virtualidad  en  lavida  cotidiana  de  las  personasha permitido  nuevos  campos  de  acción y  servicios  de educacióncomo,por ejemplo,la  educación  virtual,  la  cual  tiene  los  mismos  principios  de  la educación presencial: formar, preparar y educar al sujeto en las exigencias de  la  sociedad. Por  lo  tanto,  como  señala  Ángel  (2009,  en  línea)  la educación virtual se mueve en lo realsustentado en la formación integral y humana  del  sujetoy  lo  virtual representado  en  los  sistemas  y  los  espacios que ofrece la red.Según  lo  anterior,la  virtualidad  está  movilizada  por  el  sentido  de  lohumano,pues“elservicio  que  prestan  las  tecnologías  de  información  y comunicación son mediaciones para alcanzar un desarrollo humano, porque detrás  de  cada  computadora  se  haya  alguien que  proyecta,mediantela escritura, algo  de  su  historia  personal”(Ángel, 2009,  en  línea).Por  tal razón, analizarlas interacciones académicas en los mensajes enviados por el facilitador  o el estudiante  a  través  del correo  electrónico es fundamental,paradeterminar cómo los discursos oralizados se transformanen discursoscon características de un texto escrito, con el fin de formular estrategias que potencialicenel  uso  del  correo  electrónico  en  el  ámbito  educativodesde  lo escritural y lo humano. \n"
     ]
    }
   ],
   "source": [
    "with open(\"texto_tarea.txt\", \"r\") as fil:\n",
    "    texto = fil.read();\n",
    "texto = texto.replace(\"\\n\", \"\")\n",
    "print(texto)"
   ]
  },
  {
   "cell_type": "markdown",
   "metadata": {},
   "source": [
    "<font color='red'> HINT: </font> usar función re.sub\n"
   ]
  },
  {
   "cell_type": "code",
   "execution_count": null,
   "metadata": {},
   "outputs": [],
   "source": [
    "re.sub(pattern= , repl= , string=texto)"
   ]
  },
  {
   "cell_type": "markdown",
   "metadata": {},
   "source": [
    "### Separa por palabras\n",
    "Separa el texto anterior en palabras usando una expresión regular y después unelo nuevamente en una sola string."
   ]
  },
  {
   "cell_type": "code",
   "execution_count": null,
   "metadata": {},
   "outputs": [],
   "source": [
    "re.findall(pattern= , string=texto)"
   ]
  },
  {
   "cell_type": "markdown",
   "metadata": {},
   "source": [
    "### Extrae todas las palabras con mayúsculas"
   ]
  },
  {
   "cell_type": "code",
   "execution_count": null,
   "metadata": {},
   "outputs": [],
   "source": [
    "re.findall(pattern= , string=texto)"
   ]
  },
  {
   "cell_type": "markdown",
   "metadata": {},
   "source": [
    "### Extrae los siguientes campos del texto\n",
    "\n",
    "- 1.- Extaer todos los correos electrónicos\n",
    "- 2.- Extraer todos los números teléfonicos\n",
    "- 3.- Extraer todos los horarios de atención"
   ]
  },
  {
   "cell_type": "code",
   "execution_count": 49,
   "metadata": {},
   "outputs": [],
   "source": [
    "string = \"\"\"\"Correos de México teléfonos de Servicio al Cliente\n",
    "\n",
    "El teléfono de atención a clientes de Correos de México en México\n",
    "es el siguiente: 01 800 701 7000 , el horario de atención telefónico\n",
    "es de Lunes a Viernes de 08:00 a 20:00, los días Sábados de 09:00 a 15:00 horas.,\n",
    "además del teléfono principal Correos de México posee otros medios de contacto al\n",
    "cual dirigirse, correo electrónico correosmexico@cormex.mx o contactar al\n",
    "encargado fulanito@yahoo.com.mx.\n",
    "Podrá encontrar mas contactos comunicandose al 01 800 2789 3301.\"\"\""
   ]
  },
  {
   "cell_type": "code",
   "execution_count": null,
   "metadata": {},
   "outputs": [],
   "source": [
    "# correos\n",
    "re.findall(pattern= , string=string)"
   ]
  },
  {
   "cell_type": "code",
   "execution_count": null,
   "metadata": {},
   "outputs": [],
   "source": [
    "# números telefonicos\n",
    "re.findall(pattern= , string=string)"
   ]
  },
  {
   "cell_type": "code",
   "execution_count": 88,
   "metadata": {},
   "outputs": [
    {
     "data": {
      "text/plain": [
       "['correosmexico@cormex.mx', 'fulanito@yahoo.com.mx']"
      ]
     },
     "execution_count": 88,
     "metadata": {},
     "output_type": "execute_result"
    }
   ],
   "source": [
    "# Horarios\n",
    "re.findall(pattern= , string=string)"
   ]
  }
 ],
 "metadata": {
  "kernelspec": {
   "display_name": "Python 3",
   "language": "python",
   "name": "python3"
  },
  "language_info": {
   "codemirror_mode": {
    "name": "ipython",
    "version": 3
   },
   "file_extension": ".py",
   "mimetype": "text/x-python",
   "name": "python",
   "nbconvert_exporter": "python",
   "pygments_lexer": "ipython3",
   "version": "3.7.1"
  }
 },
 "nbformat": 4,
 "nbformat_minor": 2
}
