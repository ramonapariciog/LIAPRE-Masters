{
 "cells": [
  {
   "cell_type": "markdown",
   "metadata": {},
   "source": [
    "Ejercicios de refuerzo\n",
    "===="
   ]
  },
  {
   "cell_type": "markdown",
   "metadata": {},
   "source": [
    "### 1.- Convierte un string a secuencia de hexadecimales"
   ]
  },
  {
   "cell_type": "code",
   "execution_count": null,
   "metadata": {},
   "outputs": [],
   "source": []
  },
  {
   "cell_type": "markdown",
   "metadata": {},
   "source": [
    "### 1b.- Corta el valor 491 en dos partes de valores hexadecimales, enmascarandolo con 0x01F y 0x1FF"
   ]
  },
  {
   "cell_type": "code",
   "execution_count": null,
   "metadata": {},
   "outputs": [],
   "source": []
  },
  {
   "cell_type": "markdown",
   "metadata": {},
   "source": [
    "### 2.- Convierte un valor hexadecimal que introduzcas a decimal"
   ]
  },
  {
   "cell_type": "code",
   "execution_count": null,
   "metadata": {},
   "outputs": [],
   "source": []
  },
  {
   "cell_type": "markdown",
   "metadata": {},
   "source": [
    "### 3.- Hacer mayúsculas los valores de la cadena \"mi mama me mima.\", sin tomar en cuenta los espacios ni el punto"
   ]
  },
  {
   "cell_type": "code",
   "execution_count": null,
   "metadata": {},
   "outputs": [],
   "source": []
  },
  {
   "cell_type": "markdown",
   "metadata": {},
   "source": [
    "### 4.- Calcula la suma de los números consecutivos desde el 1 al 200 y el promedio, ademas de la desviación estándar"
   ]
  },
  {
   "cell_type": "code",
   "execution_count": null,
   "metadata": {},
   "outputs": [],
   "source": []
  },
  {
   "cell_type": "markdown",
   "metadata": {},
   "source": [
    "### 5.- Calcula la tangente y el logaritmo natural sobre los intervalos a = [0 , $\\pi$] y b = [-1, 1] y almacenalos en dos arreglos f_a y f_b"
   ]
  },
  {
   "cell_type": "code",
   "execution_count": null,
   "metadata": {},
   "outputs": [],
   "source": []
  },
  {
   "cell_type": "markdown",
   "metadata": {},
   "source": [
    "### 6.- Construye una lista utilizando la forma de arreglos por compresión con sólo los números pares, multiplos de 8, para el intervalo a = [0, 200]"
   ]
  },
  {
   "cell_type": "code",
   "execution_count": null,
   "metadata": {},
   "outputs": [],
   "source": []
  },
  {
   "cell_type": "markdown",
   "metadata": {},
   "source": [
    "### 7.- Construye un diccionario con el conteo de las letras, en el siguiente texto:\n",
    "\n",
    "El Tzenzontle\n",
    "\n",
    "Nehuatl nictlazotla in centzontototl icuicauh,\n",
    "\n",
    "nehuatl nictlazotla in chalchihuitl Itlapaliz\n",
    "\n",
    "ihuan in ahuiacmeh xochimeh;\n",
    "\n",
    "zan oc cenca noicniuhtzin in tlacatl,\n",
    "\n",
    "Nehuatl nictlazotla\n",
    "\n",
    "### Al final el diccionario de resultado debe estar constituido de la siguiente manera:\n",
    "```python\n",
    "{\"a\": ?, \"b\": ?, ...}\n",
    "```"
   ]
  },
  {
   "cell_type": "code",
   "execution_count": null,
   "metadata": {},
   "outputs": [],
   "source": []
  },
  {
   "cell_type": "markdown",
   "metadata": {},
   "source": [
    "### 8.- Calcula el determinante de la matriz cuadrada M. ¿Dado el resultado del determinante, M tiene inversa? Si tiene inversa calcularla\n",
    "\n",
    "```python\n",
    "M =  10, -7, -1,\n",
    "     -2,  4, 12,\n",
    "      5,  8,  0    \n",
    "```"
   ]
  },
  {
   "cell_type": "code",
   "execution_count": null,
   "metadata": {},
   "outputs": [],
   "source": []
  },
  {
   "cell_type": "markdown",
   "metadata": {},
   "source": [
    "### 10.- Generar dos arreglos de 1000 muestras aleatorias, con las distribuciones gaussianas e uniformes, calcular la varianza, el promedio, la desviación estándard, etc"
   ]
  },
  {
   "cell_type": "code",
   "execution_count": null,
   "metadata": {},
   "outputs": [],
   "source": []
  }
 ],
 "metadata": {
  "kernelspec": {
   "display_name": "Python 3",
   "language": "python",
   "name": "python3"
  },
  "language_info": {
   "codemirror_mode": {
    "name": "ipython",
    "version": 3
   },
   "file_extension": ".py",
   "mimetype": "text/x-python",
   "name": "python",
   "nbconvert_exporter": "python",
   "pygments_lexer": "ipython3",
   "version": "3.6.5"
  }
 },
 "nbformat": 4,
 "nbformat_minor": 2
}
